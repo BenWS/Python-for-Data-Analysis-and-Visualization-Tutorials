{
 "metadata": {
  "language_info": {
   "codemirror_mode": {
    "name": "ipython",
    "version": 3
   },
   "file_extension": ".py",
   "mimetype": "text/x-python",
   "name": "python",
   "nbconvert_exporter": "python",
   "pygments_lexer": "ipython3",
   "version": "3.8.5"
  },
  "orig_nbformat": 2,
  "kernelspec": {
   "name": "python3",
   "display_name": "Python 3.8.5 64-bit ('base': conda)"
  },
  "interpreter": {
   "hash": "c64ecc72c06fd3268d71643271820c55602207de2ad84992d2bee16cc0166cb6"
  }
 },
 "nbformat": 4,
 "nbformat_minor": 2,
 "cells": [
  {
   "cell_type": "code",
   "execution_count": 3,
   "metadata": {},
   "outputs": [],
   "source": [
    "import numpy as np\n",
    "import pandas as pd\n",
    "from pandas import Series, DataFrame"
   ]
  },
  {
   "cell_type": "code",
   "execution_count": 8,
   "metadata": {},
   "outputs": [],
   "source": [
    "dframe = DataFrame({\n",
    "    'k1':list('XXYYZ'),\n",
    "    'k2':['alpha','beta','alpha','beta','alpha'],\n",
    "    'dataset1':np.random.randn(5),\n",
    "    'dataset2':np.random.randn(5)\n",
    "    })"
   ]
  },
  {
   "cell_type": "code",
   "execution_count": 28,
   "metadata": {},
   "outputs": [
    {
     "output_type": "execute_result",
     "data": {
      "text/plain": [
       "A        NaN\n",
       "B        NaN\n",
       "C        NaN\n",
       "D        NaN\n",
       "1    1.15678\n",
       "Name: dataset1, dtype: float64"
      ]
     },
     "metadata": {},
     "execution_count": 28
    }
   ],
   "source": [
    "dframe['dataset1'].reindex(['A','B','C','D',1])\n",
    "\n",
    "series = Series([1,2,3,4])\n",
    "\n",
    "series.reindex(['A','B','C','D'])\n",
    "\n",
    "# dframe['dataset1']\n",
    "# dframe['k1'].reindex(['A','B','C','D','E'])"
   ]
  },
  {
   "cell_type": "code",
   "execution_count": 6,
   "metadata": {},
   "outputs": [
    {
     "output_type": "execute_result",
     "data": {
      "text/plain": [
       "<pandas.core.groupby.generic.SeriesGroupBy object at 0x00000157FF8A1BE0>"
      ]
     },
     "metadata": {},
     "execution_count": 6
    }
   ],
   "source": [
    "group1 = dframe['dataset1'].groupby(dframe['k1'])\n",
    "\n",
    "group1 "
   ]
  },
  {
   "cell_type": "code",
   "execution_count": 8,
   "metadata": {},
   "outputs": [
    {
     "output_type": "execute_result",
     "data": {
      "text/plain": [
       "k1\n",
       "X    0.099452\n",
       "Y   -0.178904\n",
       "Z   -0.356375\n",
       "Name: dataset1, dtype: float64"
      ]
     },
     "metadata": {},
     "execution_count": 8
    }
   ],
   "source": [
    "group1.mean()"
   ]
  },
  {
   "cell_type": "code",
   "execution_count": 9,
   "metadata": {},
   "outputs": [],
   "source": [
    "cities = np.array(['NY','LA','LA', 'NY', 'NY'])\n",
    "month = np.array(['JAN','FEB','JAN','FEB','JAN'])"
   ]
  },
  {
   "cell_type": "code",
   "execution_count": 10,
   "metadata": {},
   "outputs": [
    {
     "output_type": "execute_result",
     "data": {
      "text/plain": [
       "LA  FEB   -0.463298\n",
       "    JAN   -0.635446\n",
       "NY  FEB    0.277638\n",
       "    JAN    0.152913\n",
       "Name: dataset1, dtype: float64"
      ]
     },
     "metadata": {},
     "execution_count": 10
    }
   ],
   "source": [
    "dframe['dataset1'].groupby([cities,month]).mean()"
   ]
  },
  {
   "cell_type": "code",
   "execution_count": 15,
   "metadata": {},
   "outputs": [
    {
     "output_type": "execute_result",
     "data": {
      "text/plain": [
       "          dataset1  dataset2\n",
       "k1 k2                       \n",
       "X  alpha  0.662201 -0.510881\n",
       "   beta  -0.463298  0.098851\n",
       "Y  alpha -0.635446 -0.653213\n",
       "   beta   0.277638 -0.377814\n",
       "Z  alpha -0.356375 -0.533774"
      ],
      "text/html": "<div>\n<style scoped>\n    .dataframe tbody tr th:only-of-type {\n        vertical-align: middle;\n    }\n\n    .dataframe tbody tr th {\n        vertical-align: top;\n    }\n\n    .dataframe thead th {\n        text-align: right;\n    }\n</style>\n<table border=\"1\" class=\"dataframe\">\n  <thead>\n    <tr style=\"text-align: right;\">\n      <th></th>\n      <th></th>\n      <th>dataset1</th>\n      <th>dataset2</th>\n    </tr>\n    <tr>\n      <th>k1</th>\n      <th>k2</th>\n      <th></th>\n      <th></th>\n    </tr>\n  </thead>\n  <tbody>\n    <tr>\n      <th rowspan=\"2\" valign=\"top\">X</th>\n      <th>alpha</th>\n      <td>0.662201</td>\n      <td>-0.510881</td>\n    </tr>\n    <tr>\n      <th>beta</th>\n      <td>-0.463298</td>\n      <td>0.098851</td>\n    </tr>\n    <tr>\n      <th rowspan=\"2\" valign=\"top\">Y</th>\n      <th>alpha</th>\n      <td>-0.635446</td>\n      <td>-0.653213</td>\n    </tr>\n    <tr>\n      <th>beta</th>\n      <td>0.277638</td>\n      <td>-0.377814</td>\n    </tr>\n    <tr>\n      <th>Z</th>\n      <th>alpha</th>\n      <td>-0.356375</td>\n      <td>-0.533774</td>\n    </tr>\n  </tbody>\n</table>\n</div>"
     },
     "metadata": {},
     "execution_count": 15
    }
   ],
   "source": [
    "dframe.groupby(['k1','k2']).mean()"
   ]
  },
  {
   "cell_type": "code",
   "execution_count": 16,
   "metadata": {},
   "outputs": [
    {
     "output_type": "execute_result",
     "data": {
      "text/plain": [
       "k1\n",
       "X    2\n",
       "Y    2\n",
       "Z    1\n",
       "dtype: int64"
      ]
     },
     "metadata": {},
     "execution_count": 16
    }
   ],
   "source": [
    "dframe.groupby(['k1']).size()"
   ]
  },
  {
   "cell_type": "code",
   "execution_count": 23,
   "metadata": {},
   "outputs": [
    {
     "output_type": "stream",
     "name": "stdout",
     "text": [
      "This is the X group\n  k1     k2  dataset1  dataset2\n0  X  alpha  0.662201 -0.510881\n1  X   beta -0.463298  0.098851\n\n\nThis is the Y group\n  k1     k2  dataset1  dataset2\n2  Y  alpha -0.635446 -0.653213\n3  Y   beta  0.277638 -0.377814\n\n\nThis is the Z group\n  k1     k2  dataset1  dataset2\n4  Z  alpha -0.356375 -0.533774\n\n\n"
     ]
    }
   ],
   "source": [
    "# Python string formatting information here: https://realpython.com/python-string-formatting/\n",
    "for name,group in dframe.groupby('k1'):\n",
    "    print('This is the %s group' % name)\n",
    "    print(group)\n",
    "    print('\\n')"
   ]
  },
  {
   "cell_type": "code",
   "execution_count": 28,
   "metadata": {},
   "outputs": [
    {
     "output_type": "stream",
     "name": "stdout",
     "text": [
      "k1 = X, k2 = alpha\n  k1     k2  dataset1  dataset2\n0  X  alpha  0.662201 -0.510881\n\n\nk1 = X, k2 = beta\n  k1    k2  dataset1  dataset2\n1  X  beta -0.463298  0.098851\n\n\nk1 = Y, k2 = alpha\n  k1     k2  dataset1  dataset2\n2  Y  alpha -0.635446 -0.653213\n\n\nk1 = Y, k2 = beta\n  k1    k2  dataset1  dataset2\n3  Y  beta  0.277638 -0.377814\n\n\nk1 = Z, k2 = alpha\n  k1     k2  dataset1  dataset2\n4  Z  alpha -0.356375 -0.533774\n\n\n"
     ]
    }
   ],
   "source": [
    "for (k1,k2), group in dframe.groupby(['k1','k2']):\n",
    "    print ('k1 = %s, k2 = %s' % (k1,k2))\n",
    "    print(group)\n",
    "    print('\\n')"
   ]
  },
  {
   "cell_type": "code",
   "execution_count": 34,
   "metadata": {},
   "outputs": [],
   "source": [
    "group_dict = dict(list(dframe.groupby(['k1','k2'])))"
   ]
  },
  {
   "cell_type": "code",
   "execution_count": 41,
   "metadata": {},
   "outputs": [
    {
     "output_type": "execute_result",
     "data": {
      "text/plain": [
       "k1           object\n",
       "k2           object\n",
       "dataset1    float64\n",
       "dataset2    float64\n",
       "dtype: object"
      ]
     },
     "metadata": {},
     "execution_count": 41
    }
   ],
   "source": [
    "dframe.dtypes"
   ]
  },
  {
   "cell_type": "code",
   "execution_count": 50,
   "metadata": {},
   "outputs": [
    {
     "output_type": "stream",
     "name": "stdout",
     "text": [
      "This is the 1 group\n  k1  dataset1  dataset2\n0  X  0.662201 -0.510881\n1  X -0.463298  0.098851\n2  Y -0.635446 -0.653213\n3  Y  0.277638 -0.377814\n4  Z -0.356375 -0.533774\nThis is the 2 group\n      k2\n0  alpha\n1   beta\n2  alpha\n3   beta\n4  alpha\n"
     ]
    }
   ],
   "source": [
    "for name, group in dframe.groupby([1,2,1,1], axis=1):\n",
    "    print('This is the %s group' % name)\n",
    "    print(group)"
   ]
  },
  {
   "cell_type": "code",
   "execution_count": 54,
   "metadata": {},
   "outputs": [],
   "source": [
    "# group the columns according to their data-type\n",
    "\n",
    "dict_group_by_dtype = dict(list(dframe.groupby(dframe.dtypes, axis = 1)))"
   ]
  },
  {
   "cell_type": "code",
   "execution_count": 57,
   "metadata": {},
   "outputs": [
    {
     "output_type": "execute_result",
     "data": {
      "text/plain": [
       "{dtype('float64'):    dataset1  dataset2\n",
       " 0  0.662201 -0.510881\n",
       " 1 -0.463298  0.098851\n",
       " 2 -0.635446 -0.653213\n",
       " 3  0.277638 -0.377814\n",
       " 4 -0.356375 -0.533774,\n",
       " dtype('O'):   k1     k2\n",
       " 0  X  alpha\n",
       " 1  X   beta\n",
       " 2  Y  alpha\n",
       " 3  Y   beta\n",
       " 4  Z  alpha}"
      ]
     },
     "metadata": {},
     "execution_count": 57
    }
   ],
   "source": [
    "dict_group_by_dtype"
   ]
  },
  {
   "cell_type": "code",
   "execution_count": 73,
   "metadata": {},
   "outputs": [
    {
     "output_type": "execute_result",
     "data": {
      "text/plain": [
       "k1                            XXYYZ\n",
       "k2          alphabetaalphabetaalpha\n",
       "dataset1                   -0.51528\n",
       "dataset2                   -1.97683\n",
       "dtype: object"
      ]
     },
     "metadata": {},
     "execution_count": 73
    }
   ],
   "source": [
    "dframe.groupby(['k1','k2']).max()"
   ]
  }
 ]
}