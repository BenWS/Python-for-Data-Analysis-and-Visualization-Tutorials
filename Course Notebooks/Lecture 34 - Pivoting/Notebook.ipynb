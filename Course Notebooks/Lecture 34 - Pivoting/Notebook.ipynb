{
 "metadata": {
  "language_info": {
   "codemirror_mode": {
    "name": "ipython",
    "version": 3
   },
   "file_extension": ".py",
   "mimetype": "text/x-python",
   "name": "python",
   "nbconvert_exporter": "python",
   "pygments_lexer": "ipython3",
   "version": "3.8.5"
  },
  "orig_nbformat": 2,
  "kernelspec": {
   "name": "python385jvsc74a57bd0c64ecc72c06fd3268d71643271820c55602207de2ad84992d2bee16cc0166cb6",
   "display_name": "Python 3.8.5 64-bit ('base': conda)"
  }
 },
 "nbformat": 4,
 "nbformat_minor": 2,
 "cells": [
  {
   "cell_type": "code",
   "execution_count": 5,
   "metadata": {},
   "outputs": [],
   "source": [
    "import numpy as np\n",
    "import pandas as pd\n",
    "from pandas import Series, DataFrame"
   ]
  },
  {
   "cell_type": "code",
   "execution_count": 8,
   "metadata": {},
   "outputs": [],
   "source": [
    "# Note: It is not necessary to understand how this dataset was made to understand this Lecture.\n",
    "\n",
    "#import pandas testing utility\n",
    "import pandas.util.testing as tm; tm.N = 3\n",
    "\n",
    "#Create a unpivoted function\n",
    "def unpivot(frame):\n",
    "    N, K = frame.shape\n",
    "    \n",
    "    data = {'value' : frame.values.ravel('F'),\n",
    "            'variable' : np.asarray(frame.columns).repeat(N),\n",
    "            'date' : np.tile(np.asarray(frame.index), K)}\n",
    "    \n",
    "    # Return the DataFrame\n",
    "    return DataFrame(data, columns=['date', 'variable', 'value'])\n",
    "\n",
    "#Set the DataFrame we'll be using\n",
    "dframe = unpivot(tm.makeTimeDataFrame())"
   ]
  },
  {
   "cell_type": "code",
   "execution_count": 28,
   "metadata": {},
   "outputs": [
    {
     "output_type": "execute_result",
     "data": {
      "text/plain": [
       "variable           A         B         C         D\n",
       "date                                              \n",
       "2000-01-03  0.335203  2.153937  0.781416 -0.304369\n",
       "2000-01-04  0.441641 -1.067851 -0.772210 -0.684376\n",
       "2000-01-05 -0.671993  0.215013 -0.107387  1.651802\n",
       "2000-01-06 -0.878983  1.152303 -0.605802  0.633860\n",
       "2000-01-07 -0.266243  2.931809  1.457732  0.940611\n",
       "2000-01-10  1.113507  0.342634  0.278914  2.896470\n",
       "2000-01-11 -0.184947  0.371125  0.080671  0.824149\n",
       "2000-01-12  1.917976  0.746344 -0.314384  1.464756\n",
       "2000-01-13  1.624523 -0.965306 -0.275397 -0.661699\n",
       "2000-01-14  1.869013 -0.493745 -0.774765 -0.967036\n",
       "2000-01-17 -1.120021 -0.634264 -0.404004  0.864275\n",
       "2000-01-18 -0.280263 -0.813636  0.619342  1.517693\n",
       "2000-01-19  1.358662 -0.937377 -0.151260  0.231425\n",
       "2000-01-20  0.694046 -0.910772  0.494032 -0.167002\n",
       "2000-01-21 -0.135757  0.741590  0.154788 -1.253325\n",
       "2000-01-24  0.799105  0.028739 -0.282889 -0.480320\n",
       "2000-01-25 -0.405807 -0.824080 -0.100105 -2.475746\n",
       "2000-01-26 -2.216682  0.391679  1.321454  0.397763\n",
       "2000-01-27  1.382265 -0.458201  0.605253  0.681947\n",
       "2000-01-28  0.459185  0.466862  0.232526 -1.561115\n",
       "2000-01-31  0.038837  0.907231  0.905852  0.384635\n",
       "2000-02-01  2.245971  2.341576 -0.125246  0.049502\n",
       "2000-02-02 -0.076275 -0.145783  0.557060 -1.667452\n",
       "2000-02-03 -1.987527  0.516513  0.531731 -0.339800\n",
       "2000-02-04 -1.280577 -0.661182 -1.055144 -0.014810\n",
       "2000-02-07 -0.143210  0.748526 -0.351876  1.021201\n",
       "2000-02-08  0.054533  0.979344 -1.167216  1.546822\n",
       "2000-02-09 -0.123790  0.317149  0.498026  1.222220\n",
       "2000-02-10  0.618757 -0.758966 -1.245455 -0.944478\n",
       "2000-02-11 -0.437766 -0.009452  0.880058 -0.910901"
      ],
      "text/html": "<div>\n<style scoped>\n    .dataframe tbody tr th:only-of-type {\n        vertical-align: middle;\n    }\n\n    .dataframe tbody tr th {\n        vertical-align: top;\n    }\n\n    .dataframe thead th {\n        text-align: right;\n    }\n</style>\n<table border=\"1\" class=\"dataframe\">\n  <thead>\n    <tr style=\"text-align: right;\">\n      <th>variable</th>\n      <th>A</th>\n      <th>B</th>\n      <th>C</th>\n      <th>D</th>\n    </tr>\n    <tr>\n      <th>date</th>\n      <th></th>\n      <th></th>\n      <th></th>\n      <th></th>\n    </tr>\n  </thead>\n  <tbody>\n    <tr>\n      <th>2000-01-03</th>\n      <td>0.335203</td>\n      <td>2.153937</td>\n      <td>0.781416</td>\n      <td>-0.304369</td>\n    </tr>\n    <tr>\n      <th>2000-01-04</th>\n      <td>0.441641</td>\n      <td>-1.067851</td>\n      <td>-0.772210</td>\n      <td>-0.684376</td>\n    </tr>\n    <tr>\n      <th>2000-01-05</th>\n      <td>-0.671993</td>\n      <td>0.215013</td>\n      <td>-0.107387</td>\n      <td>1.651802</td>\n    </tr>\n    <tr>\n      <th>2000-01-06</th>\n      <td>-0.878983</td>\n      <td>1.152303</td>\n      <td>-0.605802</td>\n      <td>0.633860</td>\n    </tr>\n    <tr>\n      <th>2000-01-07</th>\n      <td>-0.266243</td>\n      <td>2.931809</td>\n      <td>1.457732</td>\n      <td>0.940611</td>\n    </tr>\n    <tr>\n      <th>2000-01-10</th>\n      <td>1.113507</td>\n      <td>0.342634</td>\n      <td>0.278914</td>\n      <td>2.896470</td>\n    </tr>\n    <tr>\n      <th>2000-01-11</th>\n      <td>-0.184947</td>\n      <td>0.371125</td>\n      <td>0.080671</td>\n      <td>0.824149</td>\n    </tr>\n    <tr>\n      <th>2000-01-12</th>\n      <td>1.917976</td>\n      <td>0.746344</td>\n      <td>-0.314384</td>\n      <td>1.464756</td>\n    </tr>\n    <tr>\n      <th>2000-01-13</th>\n      <td>1.624523</td>\n      <td>-0.965306</td>\n      <td>-0.275397</td>\n      <td>-0.661699</td>\n    </tr>\n    <tr>\n      <th>2000-01-14</th>\n      <td>1.869013</td>\n      <td>-0.493745</td>\n      <td>-0.774765</td>\n      <td>-0.967036</td>\n    </tr>\n    <tr>\n      <th>2000-01-17</th>\n      <td>-1.120021</td>\n      <td>-0.634264</td>\n      <td>-0.404004</td>\n      <td>0.864275</td>\n    </tr>\n    <tr>\n      <th>2000-01-18</th>\n      <td>-0.280263</td>\n      <td>-0.813636</td>\n      <td>0.619342</td>\n      <td>1.517693</td>\n    </tr>\n    <tr>\n      <th>2000-01-19</th>\n      <td>1.358662</td>\n      <td>-0.937377</td>\n      <td>-0.151260</td>\n      <td>0.231425</td>\n    </tr>\n    <tr>\n      <th>2000-01-20</th>\n      <td>0.694046</td>\n      <td>-0.910772</td>\n      <td>0.494032</td>\n      <td>-0.167002</td>\n    </tr>\n    <tr>\n      <th>2000-01-21</th>\n      <td>-0.135757</td>\n      <td>0.741590</td>\n      <td>0.154788</td>\n      <td>-1.253325</td>\n    </tr>\n    <tr>\n      <th>2000-01-24</th>\n      <td>0.799105</td>\n      <td>0.028739</td>\n      <td>-0.282889</td>\n      <td>-0.480320</td>\n    </tr>\n    <tr>\n      <th>2000-01-25</th>\n      <td>-0.405807</td>\n      <td>-0.824080</td>\n      <td>-0.100105</td>\n      <td>-2.475746</td>\n    </tr>\n    <tr>\n      <th>2000-01-26</th>\n      <td>-2.216682</td>\n      <td>0.391679</td>\n      <td>1.321454</td>\n      <td>0.397763</td>\n    </tr>\n    <tr>\n      <th>2000-01-27</th>\n      <td>1.382265</td>\n      <td>-0.458201</td>\n      <td>0.605253</td>\n      <td>0.681947</td>\n    </tr>\n    <tr>\n      <th>2000-01-28</th>\n      <td>0.459185</td>\n      <td>0.466862</td>\n      <td>0.232526</td>\n      <td>-1.561115</td>\n    </tr>\n    <tr>\n      <th>2000-01-31</th>\n      <td>0.038837</td>\n      <td>0.907231</td>\n      <td>0.905852</td>\n      <td>0.384635</td>\n    </tr>\n    <tr>\n      <th>2000-02-01</th>\n      <td>2.245971</td>\n      <td>2.341576</td>\n      <td>-0.125246</td>\n      <td>0.049502</td>\n    </tr>\n    <tr>\n      <th>2000-02-02</th>\n      <td>-0.076275</td>\n      <td>-0.145783</td>\n      <td>0.557060</td>\n      <td>-1.667452</td>\n    </tr>\n    <tr>\n      <th>2000-02-03</th>\n      <td>-1.987527</td>\n      <td>0.516513</td>\n      <td>0.531731</td>\n      <td>-0.339800</td>\n    </tr>\n    <tr>\n      <th>2000-02-04</th>\n      <td>-1.280577</td>\n      <td>-0.661182</td>\n      <td>-1.055144</td>\n      <td>-0.014810</td>\n    </tr>\n    <tr>\n      <th>2000-02-07</th>\n      <td>-0.143210</td>\n      <td>0.748526</td>\n      <td>-0.351876</td>\n      <td>1.021201</td>\n    </tr>\n    <tr>\n      <th>2000-02-08</th>\n      <td>0.054533</td>\n      <td>0.979344</td>\n      <td>-1.167216</td>\n      <td>1.546822</td>\n    </tr>\n    <tr>\n      <th>2000-02-09</th>\n      <td>-0.123790</td>\n      <td>0.317149</td>\n      <td>0.498026</td>\n      <td>1.222220</td>\n    </tr>\n    <tr>\n      <th>2000-02-10</th>\n      <td>0.618757</td>\n      <td>-0.758966</td>\n      <td>-1.245455</td>\n      <td>-0.944478</td>\n    </tr>\n    <tr>\n      <th>2000-02-11</th>\n      <td>-0.437766</td>\n      <td>-0.009452</td>\n      <td>0.880058</td>\n      <td>-0.910901</td>\n    </tr>\n  </tbody>\n</table>\n</div>"
     },
     "metadata": {},
     "execution_count": 28
    }
   ],
   "source": [
    "dframe.pivot('date','variable','value')"
   ]
  },
  {
   "cell_type": "code",
   "execution_count": 27,
   "metadata": {},
   "outputs": [
    {
     "output_type": "execute_result",
     "data": {
      "text/plain": [
       "         date variable     value\n",
       "0  2000-01-03        A  0.335203\n",
       "30 2000-01-03        B  2.153937\n",
       "60 2000-01-03        C  0.781416\n",
       "90 2000-01-03        D -0.304369"
      ],
      "text/html": "<div>\n<style scoped>\n    .dataframe tbody tr th:only-of-type {\n        vertical-align: middle;\n    }\n\n    .dataframe tbody tr th {\n        vertical-align: top;\n    }\n\n    .dataframe thead th {\n        text-align: right;\n    }\n</style>\n<table border=\"1\" class=\"dataframe\">\n  <thead>\n    <tr style=\"text-align: right;\">\n      <th></th>\n      <th>date</th>\n      <th>variable</th>\n      <th>value</th>\n    </tr>\n  </thead>\n  <tbody>\n    <tr>\n      <th>0</th>\n      <td>2000-01-03</td>\n      <td>A</td>\n      <td>0.335203</td>\n    </tr>\n    <tr>\n      <th>30</th>\n      <td>2000-01-03</td>\n      <td>B</td>\n      <td>2.153937</td>\n    </tr>\n    <tr>\n      <th>60</th>\n      <td>2000-01-03</td>\n      <td>C</td>\n      <td>0.781416</td>\n    </tr>\n    <tr>\n      <th>90</th>\n      <td>2000-01-03</td>\n      <td>D</td>\n      <td>-0.304369</td>\n    </tr>\n  </tbody>\n</table>\n</div>"
     },
     "metadata": {},
     "execution_count": 27
    }
   ],
   "source": [
    "# dframe.pivot('date','variable','value')\n",
    "dframe[dframe['date']=='2000-01-03']"
   ]
  },
  {
   "cell_type": "code",
   "execution_count": 29,
   "metadata": {},
   "outputs": [],
   "source": [
    "# TODO: Not completely sure what the difference is between unstack() and pivot() is - research futher"
   ]
  }
 ]
}