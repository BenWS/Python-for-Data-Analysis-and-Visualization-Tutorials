{
 "cells": [
  {
   "cell_type": "code",
   "execution_count": 1,
   "metadata": {},
   "outputs": [],
   "source": [
    "# standard imports\n",
    "\n",
    "import numpy as np\n",
    "import pandas as pd\n",
    "from pandas import Series, DataFrame"
   ]
  },
  {
   "cell_type": "code",
   "execution_count": 2,
   "metadata": {},
   "outputs": [
    {
     "output_type": "execute_result",
     "data": {
      "text/plain": [
       "True"
      ]
     },
     "metadata": {},
     "execution_count": 2
    }
   ],
   "source": [
    "# import webbrowser\n",
    "# wikipedia page for NFL win/loss records\n",
    "\n",
    "import webbrowser\n",
    "webbrowser.open('https://en.wikipedia.org/wiki/List_of_all-time_NFL_win%E2%80%93loss_records')"
   ]
  },
  {
   "cell_type": "code",
   "execution_count": 5,
   "metadata": {},
   "outputs": [
    {
     "output_type": "execute_result",
     "data": {
      "text/plain": [
       "            Rank       Team          GP    Won  Lost  Tied    Pct.     First  \\\n",
       "1          Green        Bay     Packers  1,384   769   577  38.000     0.569   \n",
       "2         Dallas    Cowboys         930    526   398     6   0.569  1960.000   \n",
       "3      Baltimore     Ravens         400    225   174     1   0.564  1996.000   \n",
       "4        Chicago      Bears       1,418    777   599    42   0.563  1920.000   \n",
       "5            New    England    Patriots    932   519   404   9.000     0.562   \n",
       "6          Miami   Dolphins         848    467   377     4   0.553  1966.000   \n",
       "7      Minnesota    Vikings         918    495   412    11   0.545  1961.000   \n",
       "8         Kansas       City      Chiefs    933   495   426  12.000     0.537   \n",
       "9     Pittsburgh   Steelers       1,220    643   556    21   0.536  1933.000   \n",
       "10           San  Francisco       49ers  1,050   551   485  14.000     0.531   \n",
       "11           New       York      Giants  1,353   702   618  33.000     0.531   \n",
       "12  Indianapolis   Colts[d]       1,014    534   473     7   0.530  1953.000   \n",
       "13        Denver    Broncos         932    488   434    10   0.529  1960.000   \n",
       "14           Las      Vegas     Raiders    932   481   440  11.000     0.522   \n",
       "15       Seattle   Seahawks         708    367   340     1   0.519  1976.000   \n",
       "16           Los    Angeles        Rams  1,183   587   575  21.000     0.505   \n",
       "17    Washington   Football        Team  1,250   610   612  28.000     0.499   \n",
       "18           Los    Angeles    Chargers    932   459   462  11.000     0.498   \n",
       "19     Cleveland  Browns[e]       1,002    486   505    11   0.491  1950.000   \n",
       "20  Philadelphia     Eagles       1,236    590   619    27   0.488  1933.000   \n",
       "21     Tennessee     Titans         932    451   475     6   0.487  1960.000   \n",
       "22      Carolina   Panthers         416    200   215     1   0.482  1995.000   \n",
       "23       Buffalo      Bills         932    438   486     8   0.474  1960.000   \n",
       "24           New    Orleans      Saints    834   387   442   5.000     0.467   \n",
       "25       Detroit      Lions       1,281    567   681    33   0.456  1930.000   \n",
       "26    Cincinnati    Bengals         820    363   452     5   0.446  1968.000   \n",
       "27           New       York        Jets    932   410   514   8.000     0.444   \n",
       "28       Houston     Texans         304    135   169     0   0.444  2002.000   \n",
       "29       Atlanta    Falcons         848    369   473     6   0.439  1966.000   \n",
       "30       Arizona  Cardinals       1,378    566   771    41   0.426  1920.000   \n",
       "31  Jacksonville    Jaguars         416    177   239     0   0.425  1995.000   \n",
       "32         Tampa        Bay  Buccaneers    708   278   429   1.000     0.393   \n",
       "\n",
       "     NFL season Division  \n",
       "1   1921    NFC    North  \n",
       "2    NFC   East     None  \n",
       "3    AFC  North     None  \n",
       "4    NFC  North     None  \n",
       "5   1960    AFC     East  \n",
       "6    AFC   East     None  \n",
       "7    NFC  North     None  \n",
       "8   1960    AFC     West  \n",
       "9    AFC  North     None  \n",
       "10  1950    NFC     West  \n",
       "11  1925    NFC     East  \n",
       "12   AFC  South     None  \n",
       "13   AFC   West     None  \n",
       "14  1960    AFC     West  \n",
       "15   NFC   West     None  \n",
       "16  1937    NFC     West  \n",
       "17  1932    NFC     East  \n",
       "18  1960    AFC     West  \n",
       "19   AFC  North     None  \n",
       "20   NFC   East     None  \n",
       "21   AFC  South     None  \n",
       "22   NFC  South     None  \n",
       "23   AFC   East     None  \n",
       "24  1967    NFC    South  \n",
       "25   NFC  North     None  \n",
       "26   AFC  North     None  \n",
       "27  1960    AFC     East  \n",
       "28   AFC  South     None  \n",
       "29   NFC  South     None  \n",
       "30   NFC   West     None  \n",
       "31   AFC  South     None  \n",
       "32  1976    NFC    South  "
      ],
      "text/html": "<div>\n<style scoped>\n    .dataframe tbody tr th:only-of-type {\n        vertical-align: middle;\n    }\n\n    .dataframe tbody tr th {\n        vertical-align: top;\n    }\n\n    .dataframe thead th {\n        text-align: right;\n    }\n</style>\n<table border=\"1\" class=\"dataframe\">\n  <thead>\n    <tr style=\"text-align: right;\">\n      <th></th>\n      <th>Rank</th>\n      <th>Team</th>\n      <th>GP</th>\n      <th>Won</th>\n      <th>Lost</th>\n      <th>Tied</th>\n      <th>Pct.</th>\n      <th>First</th>\n      <th>NFL</th>\n      <th>season</th>\n      <th>Division</th>\n    </tr>\n  </thead>\n  <tbody>\n    <tr>\n      <th>1</th>\n      <td>Green</td>\n      <td>Bay</td>\n      <td>Packers</td>\n      <td>1,384</td>\n      <td>769</td>\n      <td>577</td>\n      <td>38.000</td>\n      <td>0.569</td>\n      <td>1921</td>\n      <td>NFC</td>\n      <td>North</td>\n    </tr>\n    <tr>\n      <th>2</th>\n      <td>Dallas</td>\n      <td>Cowboys</td>\n      <td>930</td>\n      <td>526</td>\n      <td>398</td>\n      <td>6</td>\n      <td>0.569</td>\n      <td>1960.000</td>\n      <td>NFC</td>\n      <td>East</td>\n      <td>None</td>\n    </tr>\n    <tr>\n      <th>3</th>\n      <td>Baltimore</td>\n      <td>Ravens</td>\n      <td>400</td>\n      <td>225</td>\n      <td>174</td>\n      <td>1</td>\n      <td>0.564</td>\n      <td>1996.000</td>\n      <td>AFC</td>\n      <td>North</td>\n      <td>None</td>\n    </tr>\n    <tr>\n      <th>4</th>\n      <td>Chicago</td>\n      <td>Bears</td>\n      <td>1,418</td>\n      <td>777</td>\n      <td>599</td>\n      <td>42</td>\n      <td>0.563</td>\n      <td>1920.000</td>\n      <td>NFC</td>\n      <td>North</td>\n      <td>None</td>\n    </tr>\n    <tr>\n      <th>5</th>\n      <td>New</td>\n      <td>England</td>\n      <td>Patriots</td>\n      <td>932</td>\n      <td>519</td>\n      <td>404</td>\n      <td>9.000</td>\n      <td>0.562</td>\n      <td>1960</td>\n      <td>AFC</td>\n      <td>East</td>\n    </tr>\n    <tr>\n      <th>6</th>\n      <td>Miami</td>\n      <td>Dolphins</td>\n      <td>848</td>\n      <td>467</td>\n      <td>377</td>\n      <td>4</td>\n      <td>0.553</td>\n      <td>1966.000</td>\n      <td>AFC</td>\n      <td>East</td>\n      <td>None</td>\n    </tr>\n    <tr>\n      <th>7</th>\n      <td>Minnesota</td>\n      <td>Vikings</td>\n      <td>918</td>\n      <td>495</td>\n      <td>412</td>\n      <td>11</td>\n      <td>0.545</td>\n      <td>1961.000</td>\n      <td>NFC</td>\n      <td>North</td>\n      <td>None</td>\n    </tr>\n    <tr>\n      <th>8</th>\n      <td>Kansas</td>\n      <td>City</td>\n      <td>Chiefs</td>\n      <td>933</td>\n      <td>495</td>\n      <td>426</td>\n      <td>12.000</td>\n      <td>0.537</td>\n      <td>1960</td>\n      <td>AFC</td>\n      <td>West</td>\n    </tr>\n    <tr>\n      <th>9</th>\n      <td>Pittsburgh</td>\n      <td>Steelers</td>\n      <td>1,220</td>\n      <td>643</td>\n      <td>556</td>\n      <td>21</td>\n      <td>0.536</td>\n      <td>1933.000</td>\n      <td>AFC</td>\n      <td>North</td>\n      <td>None</td>\n    </tr>\n    <tr>\n      <th>10</th>\n      <td>San</td>\n      <td>Francisco</td>\n      <td>49ers</td>\n      <td>1,050</td>\n      <td>551</td>\n      <td>485</td>\n      <td>14.000</td>\n      <td>0.531</td>\n      <td>1950</td>\n      <td>NFC</td>\n      <td>West</td>\n    </tr>\n    <tr>\n      <th>11</th>\n      <td>New</td>\n      <td>York</td>\n      <td>Giants</td>\n      <td>1,353</td>\n      <td>702</td>\n      <td>618</td>\n      <td>33.000</td>\n      <td>0.531</td>\n      <td>1925</td>\n      <td>NFC</td>\n      <td>East</td>\n    </tr>\n    <tr>\n      <th>12</th>\n      <td>Indianapolis</td>\n      <td>Colts[d]</td>\n      <td>1,014</td>\n      <td>534</td>\n      <td>473</td>\n      <td>7</td>\n      <td>0.530</td>\n      <td>1953.000</td>\n      <td>AFC</td>\n      <td>South</td>\n      <td>None</td>\n    </tr>\n    <tr>\n      <th>13</th>\n      <td>Denver</td>\n      <td>Broncos</td>\n      <td>932</td>\n      <td>488</td>\n      <td>434</td>\n      <td>10</td>\n      <td>0.529</td>\n      <td>1960.000</td>\n      <td>AFC</td>\n      <td>West</td>\n      <td>None</td>\n    </tr>\n    <tr>\n      <th>14</th>\n      <td>Las</td>\n      <td>Vegas</td>\n      <td>Raiders</td>\n      <td>932</td>\n      <td>481</td>\n      <td>440</td>\n      <td>11.000</td>\n      <td>0.522</td>\n      <td>1960</td>\n      <td>AFC</td>\n      <td>West</td>\n    </tr>\n    <tr>\n      <th>15</th>\n      <td>Seattle</td>\n      <td>Seahawks</td>\n      <td>708</td>\n      <td>367</td>\n      <td>340</td>\n      <td>1</td>\n      <td>0.519</td>\n      <td>1976.000</td>\n      <td>NFC</td>\n      <td>West</td>\n      <td>None</td>\n    </tr>\n    <tr>\n      <th>16</th>\n      <td>Los</td>\n      <td>Angeles</td>\n      <td>Rams</td>\n      <td>1,183</td>\n      <td>587</td>\n      <td>575</td>\n      <td>21.000</td>\n      <td>0.505</td>\n      <td>1937</td>\n      <td>NFC</td>\n      <td>West</td>\n    </tr>\n    <tr>\n      <th>17</th>\n      <td>Washington</td>\n      <td>Football</td>\n      <td>Team</td>\n      <td>1,250</td>\n      <td>610</td>\n      <td>612</td>\n      <td>28.000</td>\n      <td>0.499</td>\n      <td>1932</td>\n      <td>NFC</td>\n      <td>East</td>\n    </tr>\n    <tr>\n      <th>18</th>\n      <td>Los</td>\n      <td>Angeles</td>\n      <td>Chargers</td>\n      <td>932</td>\n      <td>459</td>\n      <td>462</td>\n      <td>11.000</td>\n      <td>0.498</td>\n      <td>1960</td>\n      <td>AFC</td>\n      <td>West</td>\n    </tr>\n    <tr>\n      <th>19</th>\n      <td>Cleveland</td>\n      <td>Browns[e]</td>\n      <td>1,002</td>\n      <td>486</td>\n      <td>505</td>\n      <td>11</td>\n      <td>0.491</td>\n      <td>1950.000</td>\n      <td>AFC</td>\n      <td>North</td>\n      <td>None</td>\n    </tr>\n    <tr>\n      <th>20</th>\n      <td>Philadelphia</td>\n      <td>Eagles</td>\n      <td>1,236</td>\n      <td>590</td>\n      <td>619</td>\n      <td>27</td>\n      <td>0.488</td>\n      <td>1933.000</td>\n      <td>NFC</td>\n      <td>East</td>\n      <td>None</td>\n    </tr>\n    <tr>\n      <th>21</th>\n      <td>Tennessee</td>\n      <td>Titans</td>\n      <td>932</td>\n      <td>451</td>\n      <td>475</td>\n      <td>6</td>\n      <td>0.487</td>\n      <td>1960.000</td>\n      <td>AFC</td>\n      <td>South</td>\n      <td>None</td>\n    </tr>\n    <tr>\n      <th>22</th>\n      <td>Carolina</td>\n      <td>Panthers</td>\n      <td>416</td>\n      <td>200</td>\n      <td>215</td>\n      <td>1</td>\n      <td>0.482</td>\n      <td>1995.000</td>\n      <td>NFC</td>\n      <td>South</td>\n      <td>None</td>\n    </tr>\n    <tr>\n      <th>23</th>\n      <td>Buffalo</td>\n      <td>Bills</td>\n      <td>932</td>\n      <td>438</td>\n      <td>486</td>\n      <td>8</td>\n      <td>0.474</td>\n      <td>1960.000</td>\n      <td>AFC</td>\n      <td>East</td>\n      <td>None</td>\n    </tr>\n    <tr>\n      <th>24</th>\n      <td>New</td>\n      <td>Orleans</td>\n      <td>Saints</td>\n      <td>834</td>\n      <td>387</td>\n      <td>442</td>\n      <td>5.000</td>\n      <td>0.467</td>\n      <td>1967</td>\n      <td>NFC</td>\n      <td>South</td>\n    </tr>\n    <tr>\n      <th>25</th>\n      <td>Detroit</td>\n      <td>Lions</td>\n      <td>1,281</td>\n      <td>567</td>\n      <td>681</td>\n      <td>33</td>\n      <td>0.456</td>\n      <td>1930.000</td>\n      <td>NFC</td>\n      <td>North</td>\n      <td>None</td>\n    </tr>\n    <tr>\n      <th>26</th>\n      <td>Cincinnati</td>\n      <td>Bengals</td>\n      <td>820</td>\n      <td>363</td>\n      <td>452</td>\n      <td>5</td>\n      <td>0.446</td>\n      <td>1968.000</td>\n      <td>AFC</td>\n      <td>North</td>\n      <td>None</td>\n    </tr>\n    <tr>\n      <th>27</th>\n      <td>New</td>\n      <td>York</td>\n      <td>Jets</td>\n      <td>932</td>\n      <td>410</td>\n      <td>514</td>\n      <td>8.000</td>\n      <td>0.444</td>\n      <td>1960</td>\n      <td>AFC</td>\n      <td>East</td>\n    </tr>\n    <tr>\n      <th>28</th>\n      <td>Houston</td>\n      <td>Texans</td>\n      <td>304</td>\n      <td>135</td>\n      <td>169</td>\n      <td>0</td>\n      <td>0.444</td>\n      <td>2002.000</td>\n      <td>AFC</td>\n      <td>South</td>\n      <td>None</td>\n    </tr>\n    <tr>\n      <th>29</th>\n      <td>Atlanta</td>\n      <td>Falcons</td>\n      <td>848</td>\n      <td>369</td>\n      <td>473</td>\n      <td>6</td>\n      <td>0.439</td>\n      <td>1966.000</td>\n      <td>NFC</td>\n      <td>South</td>\n      <td>None</td>\n    </tr>\n    <tr>\n      <th>30</th>\n      <td>Arizona</td>\n      <td>Cardinals</td>\n      <td>1,378</td>\n      <td>566</td>\n      <td>771</td>\n      <td>41</td>\n      <td>0.426</td>\n      <td>1920.000</td>\n      <td>NFC</td>\n      <td>West</td>\n      <td>None</td>\n    </tr>\n    <tr>\n      <th>31</th>\n      <td>Jacksonville</td>\n      <td>Jaguars</td>\n      <td>416</td>\n      <td>177</td>\n      <td>239</td>\n      <td>0</td>\n      <td>0.425</td>\n      <td>1995.000</td>\n      <td>AFC</td>\n      <td>South</td>\n      <td>None</td>\n    </tr>\n    <tr>\n      <th>32</th>\n      <td>Tampa</td>\n      <td>Bay</td>\n      <td>Buccaneers</td>\n      <td>708</td>\n      <td>278</td>\n      <td>429</td>\n      <td>1.000</td>\n      <td>0.393</td>\n      <td>1976</td>\n      <td>NFC</td>\n      <td>South</td>\n    </tr>\n  </tbody>\n</table>\n</div>"
     },
     "metadata": {},
     "execution_count": 5
    }
   ],
   "source": [
    "# create dataframe from clipboard read\n",
    "\n",
    "df = pd.read_clipboard()\n",
    "df"
   ]
  },
  {
   "cell_type": "code",
   "execution_count": 8,
   "metadata": {},
   "outputs": [
    {
     "output_type": "execute_result",
     "data": {
      "text/plain": [
       "Index(['Rank', 'Team', 'GP', 'Won', 'Lost', 'Tied', 'Pct.', 'First', 'NFL',\n",
       "       'season', 'Division'],\n",
       "      dtype='object')"
      ]
     },
     "metadata": {},
     "execution_count": 8
    }
   ],
   "source": [
    "# get the dataframe columns\n",
    "df\n",
    "df.columns"
   ]
  },
  {
   "cell_type": "code",
   "execution_count": 9,
   "metadata": {},
   "outputs": [
    {
     "output_type": "execute_result",
     "data": {
      "text/plain": [
       "1            Green\n",
       "2           Dallas\n",
       "3        Baltimore\n",
       "4          Chicago\n",
       "5              New\n",
       "6            Miami\n",
       "7        Minnesota\n",
       "8           Kansas\n",
       "9       Pittsburgh\n",
       "10             San\n",
       "11             New\n",
       "12    Indianapolis\n",
       "13          Denver\n",
       "14             Las\n",
       "15         Seattle\n",
       "16             Los\n",
       "17      Washington\n",
       "18             Los\n",
       "19       Cleveland\n",
       "20    Philadelphia\n",
       "21       Tennessee\n",
       "22        Carolina\n",
       "23         Buffalo\n",
       "24             New\n",
       "25         Detroit\n",
       "26      Cincinnati\n",
       "27             New\n",
       "28         Houston\n",
       "29         Atlanta\n",
       "30         Arizona\n",
       "31    Jacksonville\n",
       "32           Tampa\n",
       "Name: Rank, dtype: object"
      ]
     },
     "metadata": {},
     "execution_count": 9
    }
   ],
   "source": [
    "# get the values of a specific columns\n",
    "df['Rank']"
   ]
  },
  {
   "cell_type": "code",
   "execution_count": 10,
   "metadata": {},
   "outputs": [
    {
     "output_type": "execute_result",
     "data": {
      "text/plain": [
       "1     38.000\n",
       "2      0.569\n",
       "3      0.564\n",
       "4      0.563\n",
       "5      9.000\n",
       "6      0.553\n",
       "7      0.545\n",
       "8     12.000\n",
       "9      0.536\n",
       "10    14.000\n",
       "11    33.000\n",
       "12     0.530\n",
       "13     0.529\n",
       "14    11.000\n",
       "15     0.519\n",
       "16    21.000\n",
       "17    28.000\n",
       "18    11.000\n",
       "19     0.491\n",
       "20     0.488\n",
       "21     0.487\n",
       "22     0.482\n",
       "23     0.474\n",
       "24     5.000\n",
       "25     0.456\n",
       "26     0.446\n",
       "27     8.000\n",
       "28     0.444\n",
       "29     0.439\n",
       "30     0.426\n",
       "31     0.425\n",
       "32     1.000\n",
       "Name: Pct., dtype: float64"
      ]
     },
     "metadata": {},
     "execution_count": 10
    }
   ],
   "source": [
    "# get the values of a column with spaces in name\n",
    "df['Pct.']"
   ]
  },
  {
   "cell_type": "code",
   "execution_count": 11,
   "metadata": {},
   "outputs": [
    {
     "output_type": "execute_result",
     "data": {
      "text/plain": [
       "      Pct.       Team\n",
       "1   38.000        Bay\n",
       "2    0.569    Cowboys\n",
       "3    0.564     Ravens\n",
       "4    0.563      Bears\n",
       "5    9.000    England\n",
       "6    0.553   Dolphins\n",
       "7    0.545    Vikings\n",
       "8   12.000       City\n",
       "9    0.536   Steelers\n",
       "10  14.000  Francisco\n",
       "11  33.000       York\n",
       "12   0.530   Colts[d]\n",
       "13   0.529    Broncos\n",
       "14  11.000      Vegas\n",
       "15   0.519   Seahawks\n",
       "16  21.000    Angeles\n",
       "17  28.000   Football\n",
       "18  11.000    Angeles\n",
       "19   0.491  Browns[e]\n",
       "20   0.488     Eagles\n",
       "21   0.487     Titans\n",
       "22   0.482   Panthers\n",
       "23   0.474      Bills\n",
       "24   5.000    Orleans\n",
       "25   0.456      Lions\n",
       "26   0.446    Bengals\n",
       "27   8.000       York\n",
       "28   0.444     Texans\n",
       "29   0.439    Falcons\n",
       "30   0.426  Cardinals\n",
       "31   0.425    Jaguars\n",
       "32   1.000        Bay"
      ],
      "text/html": "<div>\n<style scoped>\n    .dataframe tbody tr th:only-of-type {\n        vertical-align: middle;\n    }\n\n    .dataframe tbody tr th {\n        vertical-align: top;\n    }\n\n    .dataframe thead th {\n        text-align: right;\n    }\n</style>\n<table border=\"1\" class=\"dataframe\">\n  <thead>\n    <tr style=\"text-align: right;\">\n      <th></th>\n      <th>Pct.</th>\n      <th>Team</th>\n    </tr>\n  </thead>\n  <tbody>\n    <tr>\n      <th>1</th>\n      <td>38.000</td>\n      <td>Bay</td>\n    </tr>\n    <tr>\n      <th>2</th>\n      <td>0.569</td>\n      <td>Cowboys</td>\n    </tr>\n    <tr>\n      <th>3</th>\n      <td>0.564</td>\n      <td>Ravens</td>\n    </tr>\n    <tr>\n      <th>4</th>\n      <td>0.563</td>\n      <td>Bears</td>\n    </tr>\n    <tr>\n      <th>5</th>\n      <td>9.000</td>\n      <td>England</td>\n    </tr>\n    <tr>\n      <th>6</th>\n      <td>0.553</td>\n      <td>Dolphins</td>\n    </tr>\n    <tr>\n      <th>7</th>\n      <td>0.545</td>\n      <td>Vikings</td>\n    </tr>\n    <tr>\n      <th>8</th>\n      <td>12.000</td>\n      <td>City</td>\n    </tr>\n    <tr>\n      <th>9</th>\n      <td>0.536</td>\n      <td>Steelers</td>\n    </tr>\n    <tr>\n      <th>10</th>\n      <td>14.000</td>\n      <td>Francisco</td>\n    </tr>\n    <tr>\n      <th>11</th>\n      <td>33.000</td>\n      <td>York</td>\n    </tr>\n    <tr>\n      <th>12</th>\n      <td>0.530</td>\n      <td>Colts[d]</td>\n    </tr>\n    <tr>\n      <th>13</th>\n      <td>0.529</td>\n      <td>Broncos</td>\n    </tr>\n    <tr>\n      <th>14</th>\n      <td>11.000</td>\n      <td>Vegas</td>\n    </tr>\n    <tr>\n      <th>15</th>\n      <td>0.519</td>\n      <td>Seahawks</td>\n    </tr>\n    <tr>\n      <th>16</th>\n      <td>21.000</td>\n      <td>Angeles</td>\n    </tr>\n    <tr>\n      <th>17</th>\n      <td>28.000</td>\n      <td>Football</td>\n    </tr>\n    <tr>\n      <th>18</th>\n      <td>11.000</td>\n      <td>Angeles</td>\n    </tr>\n    <tr>\n      <th>19</th>\n      <td>0.491</td>\n      <td>Browns[e]</td>\n    </tr>\n    <tr>\n      <th>20</th>\n      <td>0.488</td>\n      <td>Eagles</td>\n    </tr>\n    <tr>\n      <th>21</th>\n      <td>0.487</td>\n      <td>Titans</td>\n    </tr>\n    <tr>\n      <th>22</th>\n      <td>0.482</td>\n      <td>Panthers</td>\n    </tr>\n    <tr>\n      <th>23</th>\n      <td>0.474</td>\n      <td>Bills</td>\n    </tr>\n    <tr>\n      <th>24</th>\n      <td>5.000</td>\n      <td>Orleans</td>\n    </tr>\n    <tr>\n      <th>25</th>\n      <td>0.456</td>\n      <td>Lions</td>\n    </tr>\n    <tr>\n      <th>26</th>\n      <td>0.446</td>\n      <td>Bengals</td>\n    </tr>\n    <tr>\n      <th>27</th>\n      <td>8.000</td>\n      <td>York</td>\n    </tr>\n    <tr>\n      <th>28</th>\n      <td>0.444</td>\n      <td>Texans</td>\n    </tr>\n    <tr>\n      <th>29</th>\n      <td>0.439</td>\n      <td>Falcons</td>\n    </tr>\n    <tr>\n      <th>30</th>\n      <td>0.426</td>\n      <td>Cardinals</td>\n    </tr>\n    <tr>\n      <th>31</th>\n      <td>0.425</td>\n      <td>Jaguars</td>\n    </tr>\n    <tr>\n      <th>32</th>\n      <td>1.000</td>\n      <td>Bay</td>\n    </tr>\n  </tbody>\n</table>\n</div>"
     },
     "metadata": {},
     "execution_count": 11
    }
   ],
   "source": [
    "# get values from multiple columns\n",
    "DataFrame(df,columns=['Pct.', 'Team'])"
   ]
  },
  {
   "cell_type": "code",
   "execution_count": 12,
   "metadata": {},
   "outputs": [
    {
     "output_type": "execute_result",
     "data": {
      "text/plain": [
       "      Pct.       Team  Stadium\n",
       "1   38.000        Bay      NaN\n",
       "2    0.569    Cowboys      NaN\n",
       "3    0.564     Ravens      NaN\n",
       "4    0.563      Bears      NaN\n",
       "5    9.000    England      NaN\n",
       "6    0.553   Dolphins      NaN\n",
       "7    0.545    Vikings      NaN\n",
       "8   12.000       City      NaN\n",
       "9    0.536   Steelers      NaN\n",
       "10  14.000  Francisco      NaN\n",
       "11  33.000       York      NaN\n",
       "12   0.530   Colts[d]      NaN\n",
       "13   0.529    Broncos      NaN\n",
       "14  11.000      Vegas      NaN\n",
       "15   0.519   Seahawks      NaN\n",
       "16  21.000    Angeles      NaN\n",
       "17  28.000   Football      NaN\n",
       "18  11.000    Angeles      NaN\n",
       "19   0.491  Browns[e]      NaN\n",
       "20   0.488     Eagles      NaN\n",
       "21   0.487     Titans      NaN\n",
       "22   0.482   Panthers      NaN\n",
       "23   0.474      Bills      NaN\n",
       "24   5.000    Orleans      NaN\n",
       "25   0.456      Lions      NaN\n",
       "26   0.446    Bengals      NaN\n",
       "27   8.000       York      NaN\n",
       "28   0.444     Texans      NaN\n",
       "29   0.439    Falcons      NaN\n",
       "30   0.426  Cardinals      NaN\n",
       "31   0.425    Jaguars      NaN\n",
       "32   1.000        Bay      NaN"
      ],
      "text/html": "<div>\n<style scoped>\n    .dataframe tbody tr th:only-of-type {\n        vertical-align: middle;\n    }\n\n    .dataframe tbody tr th {\n        vertical-align: top;\n    }\n\n    .dataframe thead th {\n        text-align: right;\n    }\n</style>\n<table border=\"1\" class=\"dataframe\">\n  <thead>\n    <tr style=\"text-align: right;\">\n      <th></th>\n      <th>Pct.</th>\n      <th>Team</th>\n      <th>Stadium</th>\n    </tr>\n  </thead>\n  <tbody>\n    <tr>\n      <th>1</th>\n      <td>38.000</td>\n      <td>Bay</td>\n      <td>NaN</td>\n    </tr>\n    <tr>\n      <th>2</th>\n      <td>0.569</td>\n      <td>Cowboys</td>\n      <td>NaN</td>\n    </tr>\n    <tr>\n      <th>3</th>\n      <td>0.564</td>\n      <td>Ravens</td>\n      <td>NaN</td>\n    </tr>\n    <tr>\n      <th>4</th>\n      <td>0.563</td>\n      <td>Bears</td>\n      <td>NaN</td>\n    </tr>\n    <tr>\n      <th>5</th>\n      <td>9.000</td>\n      <td>England</td>\n      <td>NaN</td>\n    </tr>\n    <tr>\n      <th>6</th>\n      <td>0.553</td>\n      <td>Dolphins</td>\n      <td>NaN</td>\n    </tr>\n    <tr>\n      <th>7</th>\n      <td>0.545</td>\n      <td>Vikings</td>\n      <td>NaN</td>\n    </tr>\n    <tr>\n      <th>8</th>\n      <td>12.000</td>\n      <td>City</td>\n      <td>NaN</td>\n    </tr>\n    <tr>\n      <th>9</th>\n      <td>0.536</td>\n      <td>Steelers</td>\n      <td>NaN</td>\n    </tr>\n    <tr>\n      <th>10</th>\n      <td>14.000</td>\n      <td>Francisco</td>\n      <td>NaN</td>\n    </tr>\n    <tr>\n      <th>11</th>\n      <td>33.000</td>\n      <td>York</td>\n      <td>NaN</td>\n    </tr>\n    <tr>\n      <th>12</th>\n      <td>0.530</td>\n      <td>Colts[d]</td>\n      <td>NaN</td>\n    </tr>\n    <tr>\n      <th>13</th>\n      <td>0.529</td>\n      <td>Broncos</td>\n      <td>NaN</td>\n    </tr>\n    <tr>\n      <th>14</th>\n      <td>11.000</td>\n      <td>Vegas</td>\n      <td>NaN</td>\n    </tr>\n    <tr>\n      <th>15</th>\n      <td>0.519</td>\n      <td>Seahawks</td>\n      <td>NaN</td>\n    </tr>\n    <tr>\n      <th>16</th>\n      <td>21.000</td>\n      <td>Angeles</td>\n      <td>NaN</td>\n    </tr>\n    <tr>\n      <th>17</th>\n      <td>28.000</td>\n      <td>Football</td>\n      <td>NaN</td>\n    </tr>\n    <tr>\n      <th>18</th>\n      <td>11.000</td>\n      <td>Angeles</td>\n      <td>NaN</td>\n    </tr>\n    <tr>\n      <th>19</th>\n      <td>0.491</td>\n      <td>Browns[e]</td>\n      <td>NaN</td>\n    </tr>\n    <tr>\n      <th>20</th>\n      <td>0.488</td>\n      <td>Eagles</td>\n      <td>NaN</td>\n    </tr>\n    <tr>\n      <th>21</th>\n      <td>0.487</td>\n      <td>Titans</td>\n      <td>NaN</td>\n    </tr>\n    <tr>\n      <th>22</th>\n      <td>0.482</td>\n      <td>Panthers</td>\n      <td>NaN</td>\n    </tr>\n    <tr>\n      <th>23</th>\n      <td>0.474</td>\n      <td>Bills</td>\n      <td>NaN</td>\n    </tr>\n    <tr>\n      <th>24</th>\n      <td>5.000</td>\n      <td>Orleans</td>\n      <td>NaN</td>\n    </tr>\n    <tr>\n      <th>25</th>\n      <td>0.456</td>\n      <td>Lions</td>\n      <td>NaN</td>\n    </tr>\n    <tr>\n      <th>26</th>\n      <td>0.446</td>\n      <td>Bengals</td>\n      <td>NaN</td>\n    </tr>\n    <tr>\n      <th>27</th>\n      <td>8.000</td>\n      <td>York</td>\n      <td>NaN</td>\n    </tr>\n    <tr>\n      <th>28</th>\n      <td>0.444</td>\n      <td>Texans</td>\n      <td>NaN</td>\n    </tr>\n    <tr>\n      <th>29</th>\n      <td>0.439</td>\n      <td>Falcons</td>\n      <td>NaN</td>\n    </tr>\n    <tr>\n      <th>30</th>\n      <td>0.426</td>\n      <td>Cardinals</td>\n      <td>NaN</td>\n    </tr>\n    <tr>\n      <th>31</th>\n      <td>0.425</td>\n      <td>Jaguars</td>\n      <td>NaN</td>\n    </tr>\n    <tr>\n      <th>32</th>\n      <td>1.000</td>\n      <td>Bay</td>\n      <td>NaN</td>\n    </tr>\n  </tbody>\n</table>\n</div>"
     },
     "metadata": {},
     "execution_count": 12
    }
   ],
   "source": [
    "# get values for column that doesn't exist\n",
    "DataFrame(df,columns=['Pct.', 'Team','Stadium'])"
   ]
  },
  {
   "cell_type": "code",
   "execution_count": 13,
   "metadata": {},
   "outputs": [
    {
     "output_type": "execute_result",
     "data": {
      "text/plain": [
       "        Rank     Team       GP    Won  Lost  Tied    Pct.     First   NFL  \\\n",
       "1      Green      Bay  Packers  1,384   769   577  38.000     0.569  1921   \n",
       "2     Dallas  Cowboys      930    526   398     6   0.569  1960.000   NFC   \n",
       "3  Baltimore   Ravens      400    225   174     1   0.564  1996.000   AFC   \n",
       "\n",
       "  season Division  \n",
       "1    NFC    North  \n",
       "2   East     None  \n",
       "3  North     None  "
      ],
      "text/html": "<div>\n<style scoped>\n    .dataframe tbody tr th:only-of-type {\n        vertical-align: middle;\n    }\n\n    .dataframe tbody tr th {\n        vertical-align: top;\n    }\n\n    .dataframe thead th {\n        text-align: right;\n    }\n</style>\n<table border=\"1\" class=\"dataframe\">\n  <thead>\n    <tr style=\"text-align: right;\">\n      <th></th>\n      <th>Rank</th>\n      <th>Team</th>\n      <th>GP</th>\n      <th>Won</th>\n      <th>Lost</th>\n      <th>Tied</th>\n      <th>Pct.</th>\n      <th>First</th>\n      <th>NFL</th>\n      <th>season</th>\n      <th>Division</th>\n    </tr>\n  </thead>\n  <tbody>\n    <tr>\n      <th>1</th>\n      <td>Green</td>\n      <td>Bay</td>\n      <td>Packers</td>\n      <td>1,384</td>\n      <td>769</td>\n      <td>577</td>\n      <td>38.000</td>\n      <td>0.569</td>\n      <td>1921</td>\n      <td>NFC</td>\n      <td>North</td>\n    </tr>\n    <tr>\n      <th>2</th>\n      <td>Dallas</td>\n      <td>Cowboys</td>\n      <td>930</td>\n      <td>526</td>\n      <td>398</td>\n      <td>6</td>\n      <td>0.569</td>\n      <td>1960.000</td>\n      <td>NFC</td>\n      <td>East</td>\n      <td>None</td>\n    </tr>\n    <tr>\n      <th>3</th>\n      <td>Baltimore</td>\n      <td>Ravens</td>\n      <td>400</td>\n      <td>225</td>\n      <td>174</td>\n      <td>1</td>\n      <td>0.564</td>\n      <td>1996.000</td>\n      <td>AFC</td>\n      <td>North</td>\n      <td>None</td>\n    </tr>\n  </tbody>\n</table>\n</div>"
     },
     "metadata": {},
     "execution_count": 13
    }
   ],
   "source": [
    "# get rows from dataframe - first 3\n",
    "df.head(3)"
   ]
  },
  {
   "cell_type": "code",
   "execution_count": 14,
   "metadata": {},
   "outputs": [
    {
     "output_type": "execute_result",
     "data": {
      "text/plain": [
       "            Rank       Team          GP  Won  Lost  Tied   Pct.     First  \\\n",
       "30       Arizona  Cardinals       1,378  566   771    41  0.426  1920.000   \n",
       "31  Jacksonville    Jaguars         416  177   239     0  0.425  1995.000   \n",
       "32         Tampa        Bay  Buccaneers  708   278   429  1.000     0.393   \n",
       "\n",
       "     NFL season Division  \n",
       "30   NFC   West     None  \n",
       "31   AFC  South     None  \n",
       "32  1976    NFC    South  "
      ],
      "text/html": "<div>\n<style scoped>\n    .dataframe tbody tr th:only-of-type {\n        vertical-align: middle;\n    }\n\n    .dataframe tbody tr th {\n        vertical-align: top;\n    }\n\n    .dataframe thead th {\n        text-align: right;\n    }\n</style>\n<table border=\"1\" class=\"dataframe\">\n  <thead>\n    <tr style=\"text-align: right;\">\n      <th></th>\n      <th>Rank</th>\n      <th>Team</th>\n      <th>GP</th>\n      <th>Won</th>\n      <th>Lost</th>\n      <th>Tied</th>\n      <th>Pct.</th>\n      <th>First</th>\n      <th>NFL</th>\n      <th>season</th>\n      <th>Division</th>\n    </tr>\n  </thead>\n  <tbody>\n    <tr>\n      <th>30</th>\n      <td>Arizona</td>\n      <td>Cardinals</td>\n      <td>1,378</td>\n      <td>566</td>\n      <td>771</td>\n      <td>41</td>\n      <td>0.426</td>\n      <td>1920.000</td>\n      <td>NFC</td>\n      <td>West</td>\n      <td>None</td>\n    </tr>\n    <tr>\n      <th>31</th>\n      <td>Jacksonville</td>\n      <td>Jaguars</td>\n      <td>416</td>\n      <td>177</td>\n      <td>239</td>\n      <td>0</td>\n      <td>0.425</td>\n      <td>1995.000</td>\n      <td>AFC</td>\n      <td>South</td>\n      <td>None</td>\n    </tr>\n    <tr>\n      <th>32</th>\n      <td>Tampa</td>\n      <td>Bay</td>\n      <td>Buccaneers</td>\n      <td>708</td>\n      <td>278</td>\n      <td>429</td>\n      <td>1.000</td>\n      <td>0.393</td>\n      <td>1976</td>\n      <td>NFC</td>\n      <td>South</td>\n    </tr>\n  </tbody>\n</table>\n</div>"
     },
     "metadata": {},
     "execution_count": 14
    }
   ],
   "source": [
    "# get rows from dataframe - *last* 3\n",
    "df.tail(3)"
   ]
  },
  {
   "cell_type": "code",
   "execution_count": 9,
   "metadata": {},
   "outputs": [
    {
     "output_type": "execute_result",
     "data": {
      "text/plain": [
       "Rank        Baltimore\n",
       "Team           Ravens\n",
       "GP                400\n",
       "Won               225\n",
       "Lost              174\n",
       "Tied                1\n",
       "Pct.            0.564\n",
       "First          1996.0\n",
       "NFL               AFC\n",
       "season          North\n",
       "Division         None\n",
       "Name: 3, dtype: object"
      ]
     },
     "metadata": {},
     "execution_count": 9
    }
   ],
   "source": [
    "# retrieve rows for a particular index \n",
    "#~~TODO: df.ix is deprecated - what is the replacement method?\n",
    "# DataFrame(df,index=[3,7,9])\n",
    "df.loc[3]"
   ]
  },
  {
   "cell_type": "code",
   "execution_count": 16,
   "metadata": {},
   "outputs": [],
   "source": [
    "# assign value for a particular column\n",
    "df_newcol = DataFrame(df,columns=['Pct.', 'Team','Stadium'])\n",
    "df_newcol['Stadium'] = 'AT & T'"
   ]
  },
  {
   "cell_type": "code",
   "execution_count": 17,
   "metadata": {},
   "outputs": [],
   "source": [
    "# assign range as value for a particular col\n",
    "df_newcol['Stadium'] = np.arange(32)"
   ]
  },
  {
   "cell_type": "code",
   "execution_count": 18,
   "metadata": {},
   "outputs": [],
   "source": [
    "# create series for two specific stadiums\n",
    "\n",
    "\n",
    "\n",
    "series = Series(['AT & T Stadium','Mercedes Benz Stadium'], index=[1,28])\n"
   ]
  },
  {
   "cell_type": "code",
   "execution_count": 94,
   "metadata": {},
   "outputs": [],
   "source": [
    "# input new series into dataframe\n",
    "df['Stadiums'] = series"
   ]
  },
  {
   "cell_type": "code",
   "execution_count": 96,
   "metadata": {},
   "outputs": [
    {
     "ename": "KeyError",
     "evalue": "\"['Stadiums'] not found in axis\"",
     "output_type": "error",
     "traceback": [
      "\u001b[1;31m---------------------------------------------------------------------------\u001b[0m",
      "\u001b[1;31mKeyError\u001b[0m                                  Traceback (most recent call last)",
      "\u001b[1;32m<ipython-input-96-9a6831b5606d>\u001b[0m in \u001b[0;36m<module>\u001b[1;34m\u001b[0m\n\u001b[0;32m      1\u001b[0m \u001b[1;31m# delete column\u001b[0m\u001b[1;33m\u001b[0m\u001b[1;33m\u001b[0m\u001b[1;33m\u001b[0m\u001b[0m\n\u001b[1;32m----> 2\u001b[1;33m \u001b[0mdf\u001b[0m \u001b[1;33m=\u001b[0m \u001b[0mdf\u001b[0m\u001b[1;33m.\u001b[0m\u001b[0mdrop\u001b[0m\u001b[1;33m(\u001b[0m\u001b[0mcolumns\u001b[0m\u001b[1;33m=\u001b[0m\u001b[1;33m[\u001b[0m\u001b[1;34m'Stadiums'\u001b[0m\u001b[1;33m]\u001b[0m\u001b[1;33m)\u001b[0m\u001b[1;33m\u001b[0m\u001b[1;33m\u001b[0m\u001b[0m\n\u001b[0m\u001b[0;32m      3\u001b[0m \u001b[1;33m\u001b[0m\u001b[0m\n\u001b[0;32m      4\u001b[0m \u001b[1;31m# alternative\u001b[0m\u001b[1;33m\u001b[0m\u001b[1;33m\u001b[0m\u001b[1;33m\u001b[0m\u001b[0m\n\u001b[0;32m      5\u001b[0m \u001b[1;32mdel\u001b[0m \u001b[0mdf\u001b[0m\u001b[1;33m[\u001b[0m\u001b[1;34m'Stadiums'\u001b[0m\u001b[1;33m]\u001b[0m\u001b[1;33m\u001b[0m\u001b[1;33m\u001b[0m\u001b[0m\n",
      "\u001b[1;32m~\\anaconda3\\lib\\site-packages\\pandas\\core\\frame.py\u001b[0m in \u001b[0;36mdrop\u001b[1;34m(self, labels, axis, index, columns, level, inplace, errors)\u001b[0m\n\u001b[0;32m   4161\u001b[0m                 \u001b[0mweight\u001b[0m  \u001b[1;36m1.0\u001b[0m     \u001b[1;36m0.8\u001b[0m\u001b[1;33m\u001b[0m\u001b[1;33m\u001b[0m\u001b[0m\n\u001b[0;32m   4162\u001b[0m         \"\"\"\n\u001b[1;32m-> 4163\u001b[1;33m         return super().drop(\n\u001b[0m\u001b[0;32m   4164\u001b[0m             \u001b[0mlabels\u001b[0m\u001b[1;33m=\u001b[0m\u001b[0mlabels\u001b[0m\u001b[1;33m,\u001b[0m\u001b[1;33m\u001b[0m\u001b[1;33m\u001b[0m\u001b[0m\n\u001b[0;32m   4165\u001b[0m             \u001b[0maxis\u001b[0m\u001b[1;33m=\u001b[0m\u001b[0maxis\u001b[0m\u001b[1;33m,\u001b[0m\u001b[1;33m\u001b[0m\u001b[1;33m\u001b[0m\u001b[0m\n",
      "\u001b[1;32m~\\anaconda3\\lib\\site-packages\\pandas\\core\\generic.py\u001b[0m in \u001b[0;36mdrop\u001b[1;34m(self, labels, axis, index, columns, level, inplace, errors)\u001b[0m\n\u001b[0;32m   3885\u001b[0m         \u001b[1;32mfor\u001b[0m \u001b[0maxis\u001b[0m\u001b[1;33m,\u001b[0m \u001b[0mlabels\u001b[0m \u001b[1;32min\u001b[0m \u001b[0maxes\u001b[0m\u001b[1;33m.\u001b[0m\u001b[0mitems\u001b[0m\u001b[1;33m(\u001b[0m\u001b[1;33m)\u001b[0m\u001b[1;33m:\u001b[0m\u001b[1;33m\u001b[0m\u001b[1;33m\u001b[0m\u001b[0m\n\u001b[0;32m   3886\u001b[0m             \u001b[1;32mif\u001b[0m \u001b[0mlabels\u001b[0m \u001b[1;32mis\u001b[0m \u001b[1;32mnot\u001b[0m \u001b[1;32mNone\u001b[0m\u001b[1;33m:\u001b[0m\u001b[1;33m\u001b[0m\u001b[1;33m\u001b[0m\u001b[0m\n\u001b[1;32m-> 3887\u001b[1;33m                 \u001b[0mobj\u001b[0m \u001b[1;33m=\u001b[0m \u001b[0mobj\u001b[0m\u001b[1;33m.\u001b[0m\u001b[0m_drop_axis\u001b[0m\u001b[1;33m(\u001b[0m\u001b[0mlabels\u001b[0m\u001b[1;33m,\u001b[0m \u001b[0maxis\u001b[0m\u001b[1;33m,\u001b[0m \u001b[0mlevel\u001b[0m\u001b[1;33m=\u001b[0m\u001b[0mlevel\u001b[0m\u001b[1;33m,\u001b[0m \u001b[0merrors\u001b[0m\u001b[1;33m=\u001b[0m\u001b[0merrors\u001b[0m\u001b[1;33m)\u001b[0m\u001b[1;33m\u001b[0m\u001b[1;33m\u001b[0m\u001b[0m\n\u001b[0m\u001b[0;32m   3888\u001b[0m \u001b[1;33m\u001b[0m\u001b[0m\n\u001b[0;32m   3889\u001b[0m         \u001b[1;32mif\u001b[0m \u001b[0minplace\u001b[0m\u001b[1;33m:\u001b[0m\u001b[1;33m\u001b[0m\u001b[1;33m\u001b[0m\u001b[0m\n",
      "\u001b[1;32m~\\anaconda3\\lib\\site-packages\\pandas\\core\\generic.py\u001b[0m in \u001b[0;36m_drop_axis\u001b[1;34m(self, labels, axis, level, errors)\u001b[0m\n\u001b[0;32m   3919\u001b[0m                 \u001b[0mnew_axis\u001b[0m \u001b[1;33m=\u001b[0m \u001b[0maxis\u001b[0m\u001b[1;33m.\u001b[0m\u001b[0mdrop\u001b[0m\u001b[1;33m(\u001b[0m\u001b[0mlabels\u001b[0m\u001b[1;33m,\u001b[0m \u001b[0mlevel\u001b[0m\u001b[1;33m=\u001b[0m\u001b[0mlevel\u001b[0m\u001b[1;33m,\u001b[0m \u001b[0merrors\u001b[0m\u001b[1;33m=\u001b[0m\u001b[0merrors\u001b[0m\u001b[1;33m)\u001b[0m\u001b[1;33m\u001b[0m\u001b[1;33m\u001b[0m\u001b[0m\n\u001b[0;32m   3920\u001b[0m             \u001b[1;32melse\u001b[0m\u001b[1;33m:\u001b[0m\u001b[1;33m\u001b[0m\u001b[1;33m\u001b[0m\u001b[0m\n\u001b[1;32m-> 3921\u001b[1;33m                 \u001b[0mnew_axis\u001b[0m \u001b[1;33m=\u001b[0m \u001b[0maxis\u001b[0m\u001b[1;33m.\u001b[0m\u001b[0mdrop\u001b[0m\u001b[1;33m(\u001b[0m\u001b[0mlabels\u001b[0m\u001b[1;33m,\u001b[0m \u001b[0merrors\u001b[0m\u001b[1;33m=\u001b[0m\u001b[0merrors\u001b[0m\u001b[1;33m)\u001b[0m\u001b[1;33m\u001b[0m\u001b[1;33m\u001b[0m\u001b[0m\n\u001b[0m\u001b[0;32m   3922\u001b[0m             \u001b[0mresult\u001b[0m \u001b[1;33m=\u001b[0m \u001b[0mself\u001b[0m\u001b[1;33m.\u001b[0m\u001b[0mreindex\u001b[0m\u001b[1;33m(\u001b[0m\u001b[1;33m**\u001b[0m\u001b[1;33m{\u001b[0m\u001b[0maxis_name\u001b[0m\u001b[1;33m:\u001b[0m \u001b[0mnew_axis\u001b[0m\u001b[1;33m}\u001b[0m\u001b[1;33m)\u001b[0m\u001b[1;33m\u001b[0m\u001b[1;33m\u001b[0m\u001b[0m\n\u001b[0;32m   3923\u001b[0m \u001b[1;33m\u001b[0m\u001b[0m\n",
      "\u001b[1;32m~\\anaconda3\\lib\\site-packages\\pandas\\core\\indexes\\base.py\u001b[0m in \u001b[0;36mdrop\u001b[1;34m(self, labels, errors)\u001b[0m\n\u001b[0;32m   5280\u001b[0m         \u001b[1;32mif\u001b[0m \u001b[0mmask\u001b[0m\u001b[1;33m.\u001b[0m\u001b[0many\u001b[0m\u001b[1;33m(\u001b[0m\u001b[1;33m)\u001b[0m\u001b[1;33m:\u001b[0m\u001b[1;33m\u001b[0m\u001b[1;33m\u001b[0m\u001b[0m\n\u001b[0;32m   5281\u001b[0m             \u001b[1;32mif\u001b[0m \u001b[0merrors\u001b[0m \u001b[1;33m!=\u001b[0m \u001b[1;34m\"ignore\"\u001b[0m\u001b[1;33m:\u001b[0m\u001b[1;33m\u001b[0m\u001b[1;33m\u001b[0m\u001b[0m\n\u001b[1;32m-> 5282\u001b[1;33m                 \u001b[1;32mraise\u001b[0m \u001b[0mKeyError\u001b[0m\u001b[1;33m(\u001b[0m\u001b[1;34mf\"{labels[mask]} not found in axis\"\u001b[0m\u001b[1;33m)\u001b[0m\u001b[1;33m\u001b[0m\u001b[1;33m\u001b[0m\u001b[0m\n\u001b[0m\u001b[0;32m   5283\u001b[0m             \u001b[0mindexer\u001b[0m \u001b[1;33m=\u001b[0m \u001b[0mindexer\u001b[0m\u001b[1;33m[\u001b[0m\u001b[1;33m~\u001b[0m\u001b[0mmask\u001b[0m\u001b[1;33m]\u001b[0m\u001b[1;33m\u001b[0m\u001b[1;33m\u001b[0m\u001b[0m\n\u001b[0;32m   5284\u001b[0m         \u001b[1;32mreturn\u001b[0m \u001b[0mself\u001b[0m\u001b[1;33m.\u001b[0m\u001b[0mdelete\u001b[0m\u001b[1;33m(\u001b[0m\u001b[0mindexer\u001b[0m\u001b[1;33m)\u001b[0m\u001b[1;33m\u001b[0m\u001b[1;33m\u001b[0m\u001b[0m\n",
      "\u001b[1;31mKeyError\u001b[0m: \"['Stadiums'] not found in axis\""
     ]
    }
   ],
   "source": [
    "# delete column \n",
    "df = df.drop(columns=['Stadiums'])\n",
    "\n",
    "# alternative method\n",
    "del df['Stadiums']"
   ]
  },
  {
   "cell_type": "code",
   "execution_count": 91,
   "metadata": {},
   "outputs": [],
   "source": [
    "# create dict with cities and populations\n",
    "my_dict = [{'name':'Atlanta','population':400000},{'name':'Boston','population':1000000}]\n",
    "\n",
    "# alternative way of doing it, same result and less text\n",
    "my_dict = {'name':['Atlanta','Boston'],'population':[400000,1000000]}"
   ]
  },
  {
   "cell_type": "code",
   "execution_count": 89,
   "metadata": {},
   "outputs": [
    {
     "data": {
      "text/html": [
       "<div>\n",
       "<style scoped>\n",
       "    .dataframe tbody tr th:only-of-type {\n",
       "        vertical-align: middle;\n",
       "    }\n",
       "\n",
       "    .dataframe tbody tr th {\n",
       "        vertical-align: top;\n",
       "    }\n",
       "\n",
       "    .dataframe thead th {\n",
       "        text-align: right;\n",
       "    }\n",
       "</style>\n",
       "<table border=\"1\" class=\"dataframe\">\n",
       "  <thead>\n",
       "    <tr style=\"text-align: right;\">\n",
       "      <th></th>\n",
       "      <th>name</th>\n",
       "      <th>population</th>\n",
       "    </tr>\n",
       "  </thead>\n",
       "  <tbody>\n",
       "    <tr>\n",
       "      <th>0</th>\n",
       "      <td>Atlanta</td>\n",
       "      <td>400000</td>\n",
       "    </tr>\n",
       "    <tr>\n",
       "      <th>1</th>\n",
       "      <td>Boston</td>\n",
       "      <td>1000000</td>\n",
       "    </tr>\n",
       "  </tbody>\n",
       "</table>\n",
       "</div>"
      ],
      "text/plain": [
       "      name  population\n",
       "0  Atlanta      400000\n",
       "1   Boston     1000000"
      ]
     },
     "execution_count": 89,
     "metadata": {},
     "output_type": "execute_result"
    }
   ],
   "source": [
    "# create dataframe from dict\n",
    "pd.DataFrame(my_dict)"
   ]
  }
 ],
 "metadata": {
  "kernelspec": {
   "name": "python382jvsc74a57bd02db524e06e9f5f4ffedc911c917cb75e12dbc923643829bf417064a77eb14d37",
   "display_name": "Python 3.8.2 64-bit"
  },
  "language_info": {
   "codemirror_mode": {
    "name": "ipython",
    "version": 3
   },
   "file_extension": ".py",
   "mimetype": "text/x-python",
   "name": "python",
   "nbconvert_exporter": "python",
   "pygments_lexer": "ipython3",
   "version": "3.8.2"
  },
  "metadata": {
   "interpreter": {
    "hash": "2db524e06e9f5f4ffedc911c917cb75e12dbc923643829bf417064a77eb14d37"
   }
  }
 },
 "nbformat": 4,
 "nbformat_minor": 4
}