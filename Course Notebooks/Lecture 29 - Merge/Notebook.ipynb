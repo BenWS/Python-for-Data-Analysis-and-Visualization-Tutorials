{
 "metadata": {
  "language_info": {
   "codemirror_mode": {
    "name": "ipython",
    "version": 3
   },
   "file_extension": ".py",
   "mimetype": "text/x-python",
   "name": "python",
   "nbconvert_exporter": "python",
   "pygments_lexer": "ipython3",
   "version": "3.8.2"
  },
  "orig_nbformat": 2,
  "kernelspec": {
   "name": "python382jvsc74a57bd02db524e06e9f5f4ffedc911c917cb75e12dbc923643829bf417064a77eb14d37",
   "display_name": "Python 3.8.2 64-bit"
  },
  "metadata": {
   "interpreter": {
    "hash": "2db524e06e9f5f4ffedc911c917cb75e12dbc923643829bf417064a77eb14d37"
   }
  }
 },
 "nbformat": 4,
 "nbformat_minor": 2,
 "cells": [
  {
   "cell_type": "code",
   "execution_count": 2,
   "metadata": {},
   "outputs": [],
   "source": [
    "# import modules\n",
    "import pandas as pd\n",
    "import numpy as np\n",
    "\n",
    "from pandas import Series, DataFrame"
   ]
  },
  {
   "cell_type": "code",
   "execution_count": 3,
   "metadata": {},
   "outputs": [
    {
     "output_type": "execute_result",
     "data": {
      "text/plain": [
       "  key  data_set_1\n",
       "0   X           0\n",
       "1   Z           1\n",
       "2   Y           2\n",
       "3   X           3\n",
       "4   X           4\n",
       "5   A           5"
      ],
      "text/html": "<div>\n<style scoped>\n    .dataframe tbody tr th:only-of-type {\n        vertical-align: middle;\n    }\n\n    .dataframe tbody tr th {\n        vertical-align: top;\n    }\n\n    .dataframe thead th {\n        text-align: right;\n    }\n</style>\n<table border=\"1\" class=\"dataframe\">\n  <thead>\n    <tr style=\"text-align: right;\">\n      <th></th>\n      <th>key</th>\n      <th>data_set_1</th>\n    </tr>\n  </thead>\n  <tbody>\n    <tr>\n      <th>0</th>\n      <td>X</td>\n      <td>0</td>\n    </tr>\n    <tr>\n      <th>1</th>\n      <td>Z</td>\n      <td>1</td>\n    </tr>\n    <tr>\n      <th>2</th>\n      <td>Y</td>\n      <td>2</td>\n    </tr>\n    <tr>\n      <th>3</th>\n      <td>X</td>\n      <td>3</td>\n    </tr>\n    <tr>\n      <th>4</th>\n      <td>X</td>\n      <td>4</td>\n    </tr>\n    <tr>\n      <th>5</th>\n      <td>A</td>\n      <td>5</td>\n    </tr>\n  </tbody>\n</table>\n</div>"
     },
     "metadata": {},
     "execution_count": 3
    }
   ],
   "source": [
    "# create data frame with these columns from dictionary\n",
    "\n",
    "dframe1 = DataFrame({'key':['X','Z','Y','X','X','A'],'data_set_1':np.arange(6)})\n",
    "dframe1"
   ]
  },
  {
   "cell_type": "code",
   "execution_count": 4,
   "metadata": {},
   "outputs": [
    {
     "output_type": "execute_result",
     "data": {
      "text/plain": [
       "  key  data_set_2\n",
       "0   Z           0\n",
       "1   X           1\n",
       "2   Y           2\n",
       "3   Z           3\n",
       "4   U           4"
      ],
      "text/html": "<div>\n<style scoped>\n    .dataframe tbody tr th:only-of-type {\n        vertical-align: middle;\n    }\n\n    .dataframe tbody tr th {\n        vertical-align: top;\n    }\n\n    .dataframe thead th {\n        text-align: right;\n    }\n</style>\n<table border=\"1\" class=\"dataframe\">\n  <thead>\n    <tr style=\"text-align: right;\">\n      <th></th>\n      <th>key</th>\n      <th>data_set_2</th>\n    </tr>\n  </thead>\n  <tbody>\n    <tr>\n      <th>0</th>\n      <td>Z</td>\n      <td>0</td>\n    </tr>\n    <tr>\n      <th>1</th>\n      <td>X</td>\n      <td>1</td>\n    </tr>\n    <tr>\n      <th>2</th>\n      <td>Y</td>\n      <td>2</td>\n    </tr>\n    <tr>\n      <th>3</th>\n      <td>Z</td>\n      <td>3</td>\n    </tr>\n    <tr>\n      <th>4</th>\n      <td>U</td>\n      <td>4</td>\n    </tr>\n  </tbody>\n</table>\n</div>"
     },
     "metadata": {},
     "execution_count": 4
    }
   ],
   "source": [
    "# create dframe2 from these columns\n",
    "\n",
    "dframe2 = DataFrame({'key':['Z','X','Y','Z','U'], 'data_set_2':np.arange(5)})\n",
    "dframe2"
   ]
  },
  {
   "cell_type": "code",
   "execution_count": 5,
   "metadata": {},
   "outputs": [
    {
     "output_type": "execute_result",
     "data": {
      "text/plain": [
       "  key  data_set_1  data_set_2\n",
       "0   X           0           1\n",
       "1   X           3           1\n",
       "2   X           4           1\n",
       "3   Z           1           0\n",
       "4   Z           1           3\n",
       "5   Y           2           2"
      ],
      "text/html": "<div>\n<style scoped>\n    .dataframe tbody tr th:only-of-type {\n        vertical-align: middle;\n    }\n\n    .dataframe tbody tr th {\n        vertical-align: top;\n    }\n\n    .dataframe thead th {\n        text-align: right;\n    }\n</style>\n<table border=\"1\" class=\"dataframe\">\n  <thead>\n    <tr style=\"text-align: right;\">\n      <th></th>\n      <th>key</th>\n      <th>data_set_1</th>\n      <th>data_set_2</th>\n    </tr>\n  </thead>\n  <tbody>\n    <tr>\n      <th>0</th>\n      <td>X</td>\n      <td>0</td>\n      <td>1</td>\n    </tr>\n    <tr>\n      <th>1</th>\n      <td>X</td>\n      <td>3</td>\n      <td>1</td>\n    </tr>\n    <tr>\n      <th>2</th>\n      <td>X</td>\n      <td>4</td>\n      <td>1</td>\n    </tr>\n    <tr>\n      <th>3</th>\n      <td>Z</td>\n      <td>1</td>\n      <td>0</td>\n    </tr>\n    <tr>\n      <th>4</th>\n      <td>Z</td>\n      <td>1</td>\n      <td>3</td>\n    </tr>\n    <tr>\n      <th>5</th>\n      <td>Y</td>\n      <td>2</td>\n      <td>2</td>\n    </tr>\n  </tbody>\n</table>\n</div>"
     },
     "metadata": {},
     "execution_count": 5
    }
   ],
   "source": [
    "# merge the two dataframes\n",
    "\n",
    "pd.merge(dframe1,dframe2)"
   ]
  },
  {
   "cell_type": "code",
   "execution_count": 6,
   "metadata": {},
   "outputs": [
    {
     "output_type": "execute_result",
     "data": {
      "text/plain": [
       "  key  data_set_1  data_set_2\n",
       "0   X           0           1\n",
       "1   X           3           1\n",
       "2   X           4           1\n",
       "3   Z           1           0\n",
       "4   Z           1           3\n",
       "5   Y           2           2"
      ],
      "text/html": "<div>\n<style scoped>\n    .dataframe tbody tr th:only-of-type {\n        vertical-align: middle;\n    }\n\n    .dataframe tbody tr th {\n        vertical-align: top;\n    }\n\n    .dataframe thead th {\n        text-align: right;\n    }\n</style>\n<table border=\"1\" class=\"dataframe\">\n  <thead>\n    <tr style=\"text-align: right;\">\n      <th></th>\n      <th>key</th>\n      <th>data_set_1</th>\n      <th>data_set_2</th>\n    </tr>\n  </thead>\n  <tbody>\n    <tr>\n      <th>0</th>\n      <td>X</td>\n      <td>0</td>\n      <td>1</td>\n    </tr>\n    <tr>\n      <th>1</th>\n      <td>X</td>\n      <td>3</td>\n      <td>1</td>\n    </tr>\n    <tr>\n      <th>2</th>\n      <td>X</td>\n      <td>4</td>\n      <td>1</td>\n    </tr>\n    <tr>\n      <th>3</th>\n      <td>Z</td>\n      <td>1</td>\n      <td>0</td>\n    </tr>\n    <tr>\n      <th>4</th>\n      <td>Z</td>\n      <td>1</td>\n      <td>3</td>\n    </tr>\n    <tr>\n      <th>5</th>\n      <td>Y</td>\n      <td>2</td>\n      <td>2</td>\n    </tr>\n  </tbody>\n</table>\n</div>"
     },
     "metadata": {},
     "execution_count": 6
    }
   ],
   "source": [
    "# merge the two frames on specified key\n",
    "\n",
    "pd.merge(dframe1,dframe2,on='key')"
   ]
  },
  {
   "cell_type": "code",
   "execution_count": 7,
   "metadata": {},
   "outputs": [
    {
     "output_type": "execute_result",
     "data": {
      "text/plain": [
       "  key  data_set_1  data_set_2\n",
       "0   X           0         1.0\n",
       "1   Z           1         0.0\n",
       "2   Z           1         3.0\n",
       "3   Y           2         2.0\n",
       "4   X           3         1.0\n",
       "5   X           4         1.0\n",
       "6   A           5         NaN"
      ],
      "text/html": "<div>\n<style scoped>\n    .dataframe tbody tr th:only-of-type {\n        vertical-align: middle;\n    }\n\n    .dataframe tbody tr th {\n        vertical-align: top;\n    }\n\n    .dataframe thead th {\n        text-align: right;\n    }\n</style>\n<table border=\"1\" class=\"dataframe\">\n  <thead>\n    <tr style=\"text-align: right;\">\n      <th></th>\n      <th>key</th>\n      <th>data_set_1</th>\n      <th>data_set_2</th>\n    </tr>\n  </thead>\n  <tbody>\n    <tr>\n      <th>0</th>\n      <td>X</td>\n      <td>0</td>\n      <td>1.0</td>\n    </tr>\n    <tr>\n      <th>1</th>\n      <td>Z</td>\n      <td>1</td>\n      <td>0.0</td>\n    </tr>\n    <tr>\n      <th>2</th>\n      <td>Z</td>\n      <td>1</td>\n      <td>3.0</td>\n    </tr>\n    <tr>\n      <th>3</th>\n      <td>Y</td>\n      <td>2</td>\n      <td>2.0</td>\n    </tr>\n    <tr>\n      <th>4</th>\n      <td>X</td>\n      <td>3</td>\n      <td>1.0</td>\n    </tr>\n    <tr>\n      <th>5</th>\n      <td>X</td>\n      <td>4</td>\n      <td>1.0</td>\n    </tr>\n    <tr>\n      <th>6</th>\n      <td>A</td>\n      <td>5</td>\n      <td>NaN</td>\n    </tr>\n  </tbody>\n</table>\n</div>"
     },
     "metadata": {},
     "execution_count": 7
    }
   ],
   "source": [
    "# merge the two frames using left join\n",
    "\n",
    "pd.merge(dframe1,dframe2,on='key',how='left')\n"
   ]
  },
  {
   "cell_type": "code",
   "execution_count": 8,
   "metadata": {},
   "outputs": [
    {
     "output_type": "execute_result",
     "data": {
      "text/plain": [
       "  key  data_set_1  data_set_2\n",
       "0   Z         1.0           0\n",
       "1   X         0.0           1\n",
       "2   X         3.0           1\n",
       "3   X         4.0           1\n",
       "4   Y         2.0           2\n",
       "5   Z         1.0           3\n",
       "6   U         NaN           4"
      ],
      "text/html": "<div>\n<style scoped>\n    .dataframe tbody tr th:only-of-type {\n        vertical-align: middle;\n    }\n\n    .dataframe tbody tr th {\n        vertical-align: top;\n    }\n\n    .dataframe thead th {\n        text-align: right;\n    }\n</style>\n<table border=\"1\" class=\"dataframe\">\n  <thead>\n    <tr style=\"text-align: right;\">\n      <th></th>\n      <th>key</th>\n      <th>data_set_1</th>\n      <th>data_set_2</th>\n    </tr>\n  </thead>\n  <tbody>\n    <tr>\n      <th>0</th>\n      <td>Z</td>\n      <td>1.0</td>\n      <td>0</td>\n    </tr>\n    <tr>\n      <th>1</th>\n      <td>X</td>\n      <td>0.0</td>\n      <td>1</td>\n    </tr>\n    <tr>\n      <th>2</th>\n      <td>X</td>\n      <td>3.0</td>\n      <td>1</td>\n    </tr>\n    <tr>\n      <th>3</th>\n      <td>X</td>\n      <td>4.0</td>\n      <td>1</td>\n    </tr>\n    <tr>\n      <th>4</th>\n      <td>Y</td>\n      <td>2.0</td>\n      <td>2</td>\n    </tr>\n    <tr>\n      <th>5</th>\n      <td>Z</td>\n      <td>1.0</td>\n      <td>3</td>\n    </tr>\n    <tr>\n      <th>6</th>\n      <td>U</td>\n      <td>NaN</td>\n      <td>4</td>\n    </tr>\n  </tbody>\n</table>\n</div>"
     },
     "metadata": {},
     "execution_count": 8
    }
   ],
   "source": [
    "# merge the two frames using right join\n",
    "\n",
    "pd.merge(dframe1,dframe2,on='key',how='right')"
   ]
  },
  {
   "cell_type": "code",
   "execution_count": 9,
   "metadata": {},
   "outputs": [
    {
     "output_type": "execute_result",
     "data": {
      "text/plain": [
       "  key  data_set_1  data_set_2\n",
       "0   X         0.0         1.0\n",
       "1   X         3.0         1.0\n",
       "2   X         4.0         1.0\n",
       "3   Z         1.0         0.0\n",
       "4   Z         1.0         3.0\n",
       "5   Y         2.0         2.0\n",
       "6   A         5.0         NaN\n",
       "7   U         NaN         4.0"
      ],
      "text/html": "<div>\n<style scoped>\n    .dataframe tbody tr th:only-of-type {\n        vertical-align: middle;\n    }\n\n    .dataframe tbody tr th {\n        vertical-align: top;\n    }\n\n    .dataframe thead th {\n        text-align: right;\n    }\n</style>\n<table border=\"1\" class=\"dataframe\">\n  <thead>\n    <tr style=\"text-align: right;\">\n      <th></th>\n      <th>key</th>\n      <th>data_set_1</th>\n      <th>data_set_2</th>\n    </tr>\n  </thead>\n  <tbody>\n    <tr>\n      <th>0</th>\n      <td>X</td>\n      <td>0.0</td>\n      <td>1.0</td>\n    </tr>\n    <tr>\n      <th>1</th>\n      <td>X</td>\n      <td>3.0</td>\n      <td>1.0</td>\n    </tr>\n    <tr>\n      <th>2</th>\n      <td>X</td>\n      <td>4.0</td>\n      <td>1.0</td>\n    </tr>\n    <tr>\n      <th>3</th>\n      <td>Z</td>\n      <td>1.0</td>\n      <td>0.0</td>\n    </tr>\n    <tr>\n      <th>4</th>\n      <td>Z</td>\n      <td>1.0</td>\n      <td>3.0</td>\n    </tr>\n    <tr>\n      <th>5</th>\n      <td>Y</td>\n      <td>2.0</td>\n      <td>2.0</td>\n    </tr>\n    <tr>\n      <th>6</th>\n      <td>A</td>\n      <td>5.0</td>\n      <td>NaN</td>\n    </tr>\n    <tr>\n      <th>7</th>\n      <td>U</td>\n      <td>NaN</td>\n      <td>4.0</td>\n    </tr>\n  </tbody>\n</table>\n</div>"
     },
     "metadata": {},
     "execution_count": 9
    }
   ],
   "source": [
    "# merge the two frame using full join\n",
    "\n",
    "pd.merge(dframe1,dframe2,on='key',how='outer')"
   ]
  },
  {
   "cell_type": "code",
   "execution_count": 10,
   "metadata": {},
   "outputs": [],
   "source": [
    "# create dataframe\n",
    "\n",
    "# key X, X, X, Y, Z, Z\n",
    "# data_set_3 0...6\n",
    "\n",
    "dframe3 = DataFrame({'key':['X', 'X', 'X', 'Y','Z','Z'],'data_set_3':np.arange(6)})"
   ]
  },
  {
   "cell_type": "code",
   "execution_count": 11,
   "metadata": {},
   "outputs": [],
   "source": [
    "# create dataframe\n",
    "\n",
    "# key Y Y X X Z \n",
    "# data_set_4 0...5\n",
    "\n",
    "dframe4 = DataFrame({'key':['Y', 'Y', 'X', 'X', 'Z'],'data_set_4':np.arange(5)})"
   ]
  },
  {
   "cell_type": "code",
   "execution_count": 12,
   "metadata": {},
   "outputs": [
    {
     "output_type": "execute_result",
     "data": {
      "text/plain": [
       "  key  data_set_3  data_set_4\n",
       "0   X           0           2\n",
       "1   X           0           3\n",
       "2   X           1           2\n",
       "3   X           1           3\n",
       "4   X           2           2\n",
       "5   X           2           3\n",
       "6   Y           3           0\n",
       "7   Y           3           1\n",
       "8   Z           4           4\n",
       "9   Z           5           4"
      ],
      "text/html": "<div>\n<style scoped>\n    .dataframe tbody tr th:only-of-type {\n        vertical-align: middle;\n    }\n\n    .dataframe tbody tr th {\n        vertical-align: top;\n    }\n\n    .dataframe thead th {\n        text-align: right;\n    }\n</style>\n<table border=\"1\" class=\"dataframe\">\n  <thead>\n    <tr style=\"text-align: right;\">\n      <th></th>\n      <th>key</th>\n      <th>data_set_3</th>\n      <th>data_set_4</th>\n    </tr>\n  </thead>\n  <tbody>\n    <tr>\n      <th>0</th>\n      <td>X</td>\n      <td>0</td>\n      <td>2</td>\n    </tr>\n    <tr>\n      <th>1</th>\n      <td>X</td>\n      <td>0</td>\n      <td>3</td>\n    </tr>\n    <tr>\n      <th>2</th>\n      <td>X</td>\n      <td>1</td>\n      <td>2</td>\n    </tr>\n    <tr>\n      <th>3</th>\n      <td>X</td>\n      <td>1</td>\n      <td>3</td>\n    </tr>\n    <tr>\n      <th>4</th>\n      <td>X</td>\n      <td>2</td>\n      <td>2</td>\n    </tr>\n    <tr>\n      <th>5</th>\n      <td>X</td>\n      <td>2</td>\n      <td>3</td>\n    </tr>\n    <tr>\n      <th>6</th>\n      <td>Y</td>\n      <td>3</td>\n      <td>0</td>\n    </tr>\n    <tr>\n      <th>7</th>\n      <td>Y</td>\n      <td>3</td>\n      <td>1</td>\n    </tr>\n    <tr>\n      <th>8</th>\n      <td>Z</td>\n      <td>4</td>\n      <td>4</td>\n    </tr>\n    <tr>\n      <th>9</th>\n      <td>Z</td>\n      <td>5</td>\n      <td>4</td>\n    </tr>\n  </tbody>\n</table>\n</div>"
     },
     "metadata": {},
     "execution_count": 12
    }
   ],
   "source": [
    "# merge the two data frames\n",
    "pd.merge(dframe3,dframe4,on='key',how='outer') "
   ]
  },
  {
   "cell_type": "code",
   "execution_count": 13,
   "metadata": {},
   "outputs": [],
   "source": [
    "# create df_left\n",
    "\n",
    "df_left = DataFrame({'key1':['SF','SF','LA'],'key2':np.arange(3),'left_data':[10, 20, 30]})"
   ]
  },
  {
   "cell_type": "code",
   "execution_count": 14,
   "metadata": {},
   "outputs": [],
   "source": [
    "# create df_right\n",
    "\n",
    "df_right = DataFrame({'key1':['SF', 'SF', 'LA', 'LA'], 'key2':[1,1,2,2], 'right_data':[40, 50, 60, 70]})"
   ]
  },
  {
   "cell_type": "code",
   "execution_count": 15,
   "metadata": {},
   "outputs": [
    {
     "output_type": "execute_result",
     "data": {
      "text/plain": [
       "  key1  key2  left_data  right_data\n",
       "0   SF     0         10         NaN\n",
       "1   SF     1         20        40.0\n",
       "2   SF     1         20        50.0\n",
       "3   LA     2         30        60.0\n",
       "4   LA     2         30        70.0"
      ],
      "text/html": "<div>\n<style scoped>\n    .dataframe tbody tr th:only-of-type {\n        vertical-align: middle;\n    }\n\n    .dataframe tbody tr th {\n        vertical-align: top;\n    }\n\n    .dataframe thead th {\n        text-align: right;\n    }\n</style>\n<table border=\"1\" class=\"dataframe\">\n  <thead>\n    <tr style=\"text-align: right;\">\n      <th></th>\n      <th>key1</th>\n      <th>key2</th>\n      <th>left_data</th>\n      <th>right_data</th>\n    </tr>\n  </thead>\n  <tbody>\n    <tr>\n      <th>0</th>\n      <td>SF</td>\n      <td>0</td>\n      <td>10</td>\n      <td>NaN</td>\n    </tr>\n    <tr>\n      <th>1</th>\n      <td>SF</td>\n      <td>1</td>\n      <td>20</td>\n      <td>40.0</td>\n    </tr>\n    <tr>\n      <th>2</th>\n      <td>SF</td>\n      <td>1</td>\n      <td>20</td>\n      <td>50.0</td>\n    </tr>\n    <tr>\n      <th>3</th>\n      <td>LA</td>\n      <td>2</td>\n      <td>30</td>\n      <td>60.0</td>\n    </tr>\n    <tr>\n      <th>4</th>\n      <td>LA</td>\n      <td>2</td>\n      <td>30</td>\n      <td>70.0</td>\n    </tr>\n  </tbody>\n</table>\n</div>"
     },
     "metadata": {},
     "execution_count": 15
    }
   ],
   "source": [
    "# full join df_left and df_right on key1 and key2\n",
    "\n",
    "pd.merge(df_left, df_right,on=['key1','key2'],how='outer')"
   ]
  },
  {
   "cell_type": "code",
   "execution_count": 17,
   "metadata": {},
   "outputs": [
    {
     "output_type": "execute_result",
     "data": {
      "text/plain": [
       "  key1  key2_x  left_data  key2_y  right_data\n",
       "0   SF       0         10       1          40\n",
       "1   SF       0         10       1          50\n",
       "2   SF       1         20       1          40\n",
       "3   SF       1         20       1          50\n",
       "4   LA       2         30       2          60\n",
       "5   LA       2         30       2          70"
      ],
      "text/html": "<div>\n<style scoped>\n    .dataframe tbody tr th:only-of-type {\n        vertical-align: middle;\n    }\n\n    .dataframe tbody tr th {\n        vertical-align: top;\n    }\n\n    .dataframe thead th {\n        text-align: right;\n    }\n</style>\n<table border=\"1\" class=\"dataframe\">\n  <thead>\n    <tr style=\"text-align: right;\">\n      <th></th>\n      <th>key1</th>\n      <th>key2_x</th>\n      <th>left_data</th>\n      <th>key2_y</th>\n      <th>right_data</th>\n    </tr>\n  </thead>\n  <tbody>\n    <tr>\n      <th>0</th>\n      <td>SF</td>\n      <td>0</td>\n      <td>10</td>\n      <td>1</td>\n      <td>40</td>\n    </tr>\n    <tr>\n      <th>1</th>\n      <td>SF</td>\n      <td>0</td>\n      <td>10</td>\n      <td>1</td>\n      <td>50</td>\n    </tr>\n    <tr>\n      <th>2</th>\n      <td>SF</td>\n      <td>1</td>\n      <td>20</td>\n      <td>1</td>\n      <td>40</td>\n    </tr>\n    <tr>\n      <th>3</th>\n      <td>SF</td>\n      <td>1</td>\n      <td>20</td>\n      <td>1</td>\n      <td>50</td>\n    </tr>\n    <tr>\n      <th>4</th>\n      <td>LA</td>\n      <td>2</td>\n      <td>30</td>\n      <td>2</td>\n      <td>60</td>\n    </tr>\n    <tr>\n      <th>5</th>\n      <td>LA</td>\n      <td>2</td>\n      <td>30</td>\n      <td>2</td>\n      <td>70</td>\n    </tr>\n  </tbody>\n</table>\n</div>"
     },
     "metadata": {},
     "execution_count": 17
    }
   ],
   "source": [
    "# join df_left and df_right only on key1\n",
    "\n",
    "pd.merge(df_left, df_right, on=['key1'], how='outer')"
   ]
  },
  {
   "cell_type": "code",
   "execution_count": 19,
   "metadata": {},
   "outputs": [
    {
     "output_type": "execute_result",
     "data": {
      "text/plain": [
       "  key1  key2_lefty  left_data  key2_righty  right_data\n",
       "0   SF           0         10            1          40\n",
       "1   SF           0         10            1          50\n",
       "2   SF           1         20            1          40\n",
       "3   SF           1         20            1          50\n",
       "4   LA           2         30            2          60\n",
       "5   LA           2         30            2          70"
      ],
      "text/html": "<div>\n<style scoped>\n    .dataframe tbody tr th:only-of-type {\n        vertical-align: middle;\n    }\n\n    .dataframe tbody tr th {\n        vertical-align: top;\n    }\n\n    .dataframe thead th {\n        text-align: right;\n    }\n</style>\n<table border=\"1\" class=\"dataframe\">\n  <thead>\n    <tr style=\"text-align: right;\">\n      <th></th>\n      <th>key1</th>\n      <th>key2_lefty</th>\n      <th>left_data</th>\n      <th>key2_righty</th>\n      <th>right_data</th>\n    </tr>\n  </thead>\n  <tbody>\n    <tr>\n      <th>0</th>\n      <td>SF</td>\n      <td>0</td>\n      <td>10</td>\n      <td>1</td>\n      <td>40</td>\n    </tr>\n    <tr>\n      <th>1</th>\n      <td>SF</td>\n      <td>0</td>\n      <td>10</td>\n      <td>1</td>\n      <td>50</td>\n    </tr>\n    <tr>\n      <th>2</th>\n      <td>SF</td>\n      <td>1</td>\n      <td>20</td>\n      <td>1</td>\n      <td>40</td>\n    </tr>\n    <tr>\n      <th>3</th>\n      <td>SF</td>\n      <td>1</td>\n      <td>20</td>\n      <td>1</td>\n      <td>50</td>\n    </tr>\n    <tr>\n      <th>4</th>\n      <td>LA</td>\n      <td>2</td>\n      <td>30</td>\n      <td>2</td>\n      <td>60</td>\n    </tr>\n    <tr>\n      <th>5</th>\n      <td>LA</td>\n      <td>2</td>\n      <td>30</td>\n      <td>2</td>\n      <td>70</td>\n    </tr>\n  </tbody>\n</table>\n</div>"
     },
     "metadata": {},
     "execution_count": 19
    }
   ],
   "source": [
    "# join df_left and df_right only on key1, and specify suffixes\n",
    "pd.merge(df_left, df_right, on=['key1'], how='outer', suffixes=['_lefty','_righty'])"
   ]
  },
  {
   "cell_type": "code",
   "execution_count": null,
   "metadata": {},
   "outputs": [],
   "source": []
  }
 ]
}