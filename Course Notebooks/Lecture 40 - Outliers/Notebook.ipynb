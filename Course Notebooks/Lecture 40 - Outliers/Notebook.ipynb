{
 "metadata": {
  "language_info": {
   "codemirror_mode": {
    "name": "ipython",
    "version": 3
   },
   "file_extension": ".py",
   "mimetype": "text/x-python",
   "name": "python",
   "nbconvert_exporter": "python",
   "pygments_lexer": "ipython3",
   "version": "3.8.5"
  },
  "orig_nbformat": 2,
  "kernelspec": {
   "name": "python385jvsc74a57bd0c64ecc72c06fd3268d71643271820c55602207de2ad84992d2bee16cc0166cb6",
   "display_name": "Python 3.8.5 64-bit ('base': conda)"
  }
 },
 "nbformat": 4,
 "nbformat_minor": 2,
 "cells": [
  {
   "cell_type": "code",
   "execution_count": 2,
   "metadata": {},
   "outputs": [],
   "source": [
    "import numpy as np\n",
    "import pandas as pd\n",
    "from pandas import Series, DataFrame"
   ]
  },
  {
   "cell_type": "code",
   "execution_count": 3,
   "metadata": {},
   "outputs": [],
   "source": [
    "np.random.seed(12345)\n",
    "\n",
    "# TODO: What is the 'seed' function doing?"
   ]
  },
  {
   "cell_type": "code",
   "execution_count": 4,
   "metadata": {},
   "outputs": [],
   "source": [
    "dframe = DataFrame(np.random.randn(1000,4))"
   ]
  },
  {
   "cell_type": "code",
   "execution_count": 5,
   "metadata": {},
   "outputs": [
    {
     "output_type": "execute_result",
     "data": {
      "text/plain": [
       "          0         1         2         3\n",
       "0 -0.204708  0.478943 -0.519439 -0.555730\n",
       "1  1.965781  1.393406  0.092908  0.281746\n",
       "2  0.769023  1.246435  1.007189 -1.296221\n",
       "3  0.274992  0.228913  1.352917  0.886429\n",
       "4 -2.001637 -0.371843  1.669025 -0.438570"
      ],
      "text/html": "<div>\n<style scoped>\n    .dataframe tbody tr th:only-of-type {\n        vertical-align: middle;\n    }\n\n    .dataframe tbody tr th {\n        vertical-align: top;\n    }\n\n    .dataframe thead th {\n        text-align: right;\n    }\n</style>\n<table border=\"1\" class=\"dataframe\">\n  <thead>\n    <tr style=\"text-align: right;\">\n      <th></th>\n      <th>0</th>\n      <th>1</th>\n      <th>2</th>\n      <th>3</th>\n    </tr>\n  </thead>\n  <tbody>\n    <tr>\n      <th>0</th>\n      <td>-0.204708</td>\n      <td>0.478943</td>\n      <td>-0.519439</td>\n      <td>-0.555730</td>\n    </tr>\n    <tr>\n      <th>1</th>\n      <td>1.965781</td>\n      <td>1.393406</td>\n      <td>0.092908</td>\n      <td>0.281746</td>\n    </tr>\n    <tr>\n      <th>2</th>\n      <td>0.769023</td>\n      <td>1.246435</td>\n      <td>1.007189</td>\n      <td>-1.296221</td>\n    </tr>\n    <tr>\n      <th>3</th>\n      <td>0.274992</td>\n      <td>0.228913</td>\n      <td>1.352917</td>\n      <td>0.886429</td>\n    </tr>\n    <tr>\n      <th>4</th>\n      <td>-2.001637</td>\n      <td>-0.371843</td>\n      <td>1.669025</td>\n      <td>-0.438570</td>\n    </tr>\n  </tbody>\n</table>\n</div>"
     },
     "metadata": {},
     "execution_count": 5
    }
   ],
   "source": [
    "dframe.head()"
   ]
  },
  {
   "cell_type": "code",
   "execution_count": 6,
   "metadata": {},
   "outputs": [
    {
     "output_type": "execute_result",
     "data": {
      "text/plain": [
       "            0         1         2         3\n",
       "995  1.089085  0.251232 -1.451985  1.653126\n",
       "996 -0.478509 -0.010663 -1.060881 -1.502870\n",
       "997 -1.946267  1.013592  0.037333  0.133304\n",
       "998 -1.293122 -0.322542 -0.782960 -0.303340\n",
       "999  0.089987  0.292291  1.177706  0.882755"
      ],
      "text/html": "<div>\n<style scoped>\n    .dataframe tbody tr th:only-of-type {\n        vertical-align: middle;\n    }\n\n    .dataframe tbody tr th {\n        vertical-align: top;\n    }\n\n    .dataframe thead th {\n        text-align: right;\n    }\n</style>\n<table border=\"1\" class=\"dataframe\">\n  <thead>\n    <tr style=\"text-align: right;\">\n      <th></th>\n      <th>0</th>\n      <th>1</th>\n      <th>2</th>\n      <th>3</th>\n    </tr>\n  </thead>\n  <tbody>\n    <tr>\n      <th>995</th>\n      <td>1.089085</td>\n      <td>0.251232</td>\n      <td>-1.451985</td>\n      <td>1.653126</td>\n    </tr>\n    <tr>\n      <th>996</th>\n      <td>-0.478509</td>\n      <td>-0.010663</td>\n      <td>-1.060881</td>\n      <td>-1.502870</td>\n    </tr>\n    <tr>\n      <th>997</th>\n      <td>-1.946267</td>\n      <td>1.013592</td>\n      <td>0.037333</td>\n      <td>0.133304</td>\n    </tr>\n    <tr>\n      <th>998</th>\n      <td>-1.293122</td>\n      <td>-0.322542</td>\n      <td>-0.782960</td>\n      <td>-0.303340</td>\n    </tr>\n    <tr>\n      <th>999</th>\n      <td>0.089987</td>\n      <td>0.292291</td>\n      <td>1.177706</td>\n      <td>0.882755</td>\n    </tr>\n  </tbody>\n</table>\n</div>"
     },
     "metadata": {},
     "execution_count": 6
    }
   ],
   "source": [
    "dframe.tail()"
   ]
  },
  {
   "cell_type": "code",
   "execution_count": 7,
   "metadata": {},
   "outputs": [
    {
     "output_type": "execute_result",
     "data": {
      "text/plain": [
       "                 0            1            2            3\n",
       "count  1000.000000  1000.000000  1000.000000  1000.000000\n",
       "mean     -0.067684     0.067924     0.025598    -0.002298\n",
       "std       0.998035     0.992106     1.006835     0.996794\n",
       "min      -3.428254    -3.548824    -3.184377    -3.745356\n",
       "25%      -0.774890    -0.591841    -0.641675    -0.644144\n",
       "50%      -0.116401     0.101143     0.002073    -0.013611\n",
       "75%       0.616366     0.780282     0.680391     0.654328\n",
       "max       3.366626     2.653656     3.260383     3.927528"
      ],
      "text/html": "<div>\n<style scoped>\n    .dataframe tbody tr th:only-of-type {\n        vertical-align: middle;\n    }\n\n    .dataframe tbody tr th {\n        vertical-align: top;\n    }\n\n    .dataframe thead th {\n        text-align: right;\n    }\n</style>\n<table border=\"1\" class=\"dataframe\">\n  <thead>\n    <tr style=\"text-align: right;\">\n      <th></th>\n      <th>0</th>\n      <th>1</th>\n      <th>2</th>\n      <th>3</th>\n    </tr>\n  </thead>\n  <tbody>\n    <tr>\n      <th>count</th>\n      <td>1000.000000</td>\n      <td>1000.000000</td>\n      <td>1000.000000</td>\n      <td>1000.000000</td>\n    </tr>\n    <tr>\n      <th>mean</th>\n      <td>-0.067684</td>\n      <td>0.067924</td>\n      <td>0.025598</td>\n      <td>-0.002298</td>\n    </tr>\n    <tr>\n      <th>std</th>\n      <td>0.998035</td>\n      <td>0.992106</td>\n      <td>1.006835</td>\n      <td>0.996794</td>\n    </tr>\n    <tr>\n      <th>min</th>\n      <td>-3.428254</td>\n      <td>-3.548824</td>\n      <td>-3.184377</td>\n      <td>-3.745356</td>\n    </tr>\n    <tr>\n      <th>25%</th>\n      <td>-0.774890</td>\n      <td>-0.591841</td>\n      <td>-0.641675</td>\n      <td>-0.644144</td>\n    </tr>\n    <tr>\n      <th>50%</th>\n      <td>-0.116401</td>\n      <td>0.101143</td>\n      <td>0.002073</td>\n      <td>-0.013611</td>\n    </tr>\n    <tr>\n      <th>75%</th>\n      <td>0.616366</td>\n      <td>0.780282</td>\n      <td>0.680391</td>\n      <td>0.654328</td>\n    </tr>\n    <tr>\n      <th>max</th>\n      <td>3.366626</td>\n      <td>2.653656</td>\n      <td>3.260383</td>\n      <td>3.927528</td>\n    </tr>\n  </tbody>\n</table>\n</div>"
     },
     "metadata": {},
     "execution_count": 7
    }
   ],
   "source": [
    "dframe.describe()"
   ]
  },
  {
   "cell_type": "code",
   "execution_count": 8,
   "metadata": {},
   "outputs": [],
   "source": [
    "col = dframe[0]"
   ]
  },
  {
   "cell_type": "code",
   "execution_count": 9,
   "metadata": {},
   "outputs": [
    {
     "output_type": "execute_result",
     "data": {
      "text/plain": [
       "0   -0.204708\n",
       "1    1.965781\n",
       "2    0.769023\n",
       "3    0.274992\n",
       "4   -2.001637\n",
       "Name: 0, dtype: float64"
      ]
     },
     "metadata": {},
     "execution_count": 9
    }
   ],
   "source": [
    "col.head()"
   ]
  },
  {
   "cell_type": "code",
   "execution_count": 10,
   "metadata": {},
   "outputs": [
    {
     "output_type": "execute_result",
     "data": {
      "text/plain": [
       "900    3.366626\n",
       "Name: 0, dtype: float64"
      ]
     },
     "metadata": {},
     "execution_count": 10
    }
   ],
   "source": [
    "col[col > 3]"
   ]
  },
  {
   "cell_type": "code",
   "execution_count": 11,
   "metadata": {},
   "outputs": [
    {
     "output_type": "execute_result",
     "data": {
      "text/plain": [
       "523   -3.428254\n",
       "900    3.366626\n",
       "Name: 0, dtype: float64"
      ]
     },
     "metadata": {},
     "execution_count": 11
    }
   ],
   "source": [
    "col[np.abs(col) > 3]"
   ]
  },
  {
   "cell_type": "code",
   "execution_count": 12,
   "metadata": {},
   "outputs": [
    {
     "output_type": "execute_result",
     "data": {
      "text/plain": [
       "            0         1         2         3\n",
       "5   -0.539741  0.476985  3.248944 -1.021228\n",
       "97  -0.774363  0.552936  0.106061  3.927528\n",
       "102 -0.655054 -0.565230  3.176873  0.959533\n",
       "305 -2.315555  0.457246 -0.025907 -3.399312\n",
       "324  0.050188  1.951312  3.260383  0.963301\n",
       "400  0.146326  0.508391 -0.196713 -3.745356\n",
       "499 -0.293333 -0.242459 -3.056990  1.918403\n",
       "523 -3.428254 -0.296336 -0.439938 -0.867165\n",
       "586  0.275144  1.179227 -3.184377  1.369891\n",
       "808 -0.362528 -3.548824  1.553205 -2.186301\n",
       "900  3.366626 -2.372214  0.851010  1.332846"
      ],
      "text/html": "<div>\n<style scoped>\n    .dataframe tbody tr th:only-of-type {\n        vertical-align: middle;\n    }\n\n    .dataframe tbody tr th {\n        vertical-align: top;\n    }\n\n    .dataframe thead th {\n        text-align: right;\n    }\n</style>\n<table border=\"1\" class=\"dataframe\">\n  <thead>\n    <tr style=\"text-align: right;\">\n      <th></th>\n      <th>0</th>\n      <th>1</th>\n      <th>2</th>\n      <th>3</th>\n    </tr>\n  </thead>\n  <tbody>\n    <tr>\n      <th>5</th>\n      <td>-0.539741</td>\n      <td>0.476985</td>\n      <td>3.248944</td>\n      <td>-1.021228</td>\n    </tr>\n    <tr>\n      <th>97</th>\n      <td>-0.774363</td>\n      <td>0.552936</td>\n      <td>0.106061</td>\n      <td>3.927528</td>\n    </tr>\n    <tr>\n      <th>102</th>\n      <td>-0.655054</td>\n      <td>-0.565230</td>\n      <td>3.176873</td>\n      <td>0.959533</td>\n    </tr>\n    <tr>\n      <th>305</th>\n      <td>-2.315555</td>\n      <td>0.457246</td>\n      <td>-0.025907</td>\n      <td>-3.399312</td>\n    </tr>\n    <tr>\n      <th>324</th>\n      <td>0.050188</td>\n      <td>1.951312</td>\n      <td>3.260383</td>\n      <td>0.963301</td>\n    </tr>\n    <tr>\n      <th>400</th>\n      <td>0.146326</td>\n      <td>0.508391</td>\n      <td>-0.196713</td>\n      <td>-3.745356</td>\n    </tr>\n    <tr>\n      <th>499</th>\n      <td>-0.293333</td>\n      <td>-0.242459</td>\n      <td>-3.056990</td>\n      <td>1.918403</td>\n    </tr>\n    <tr>\n      <th>523</th>\n      <td>-3.428254</td>\n      <td>-0.296336</td>\n      <td>-0.439938</td>\n      <td>-0.867165</td>\n    </tr>\n    <tr>\n      <th>586</th>\n      <td>0.275144</td>\n      <td>1.179227</td>\n      <td>-3.184377</td>\n      <td>1.369891</td>\n    </tr>\n    <tr>\n      <th>808</th>\n      <td>-0.362528</td>\n      <td>-3.548824</td>\n      <td>1.553205</td>\n      <td>-2.186301</td>\n    </tr>\n    <tr>\n      <th>900</th>\n      <td>3.366626</td>\n      <td>-2.372214</td>\n      <td>0.851010</td>\n      <td>1.332846</td>\n    </tr>\n  </tbody>\n</table>\n</div>"
     },
     "metadata": {},
     "execution_count": 12
    }
   ],
   "source": [
    "# np.abs(dframe) > 3\n",
    "# filter for dataframe rows where *any* of the columns \n",
    "dframe[(np.abs(dframe) > 3).any(1)]"
   ]
  },
  {
   "cell_type": "code",
   "execution_count": 28,
   "metadata": {},
   "outputs": [
    {
     "output_type": "execute_result",
     "data": {
      "text/plain": [
       "False"
      ]
     },
     "metadata": {},
     "execution_count": 28
    }
   ],
   "source": [
    "(np.abs(dframe[0].loc[0]) > 3)"
   ]
  },
  {
   "cell_type": "code",
   "execution_count": 66,
   "metadata": {},
   "outputs": [
    {
     "output_type": "execute_result",
     "data": {
      "text/plain": [
       "          0         1         2         3\n",
       "3  0.274992  0.228913  1.352917  0.886429\n",
       "4 -2.001637 -0.371843  1.669025 -0.438570\n",
       "5 -0.539741  0.476985  3.248944 -1.021228"
      ],
      "text/html": "<div>\n<style scoped>\n    .dataframe tbody tr th:only-of-type {\n        vertical-align: middle;\n    }\n\n    .dataframe tbody tr th {\n        vertical-align: top;\n    }\n\n    .dataframe thead th {\n        text-align: right;\n    }\n</style>\n<table border=\"1\" class=\"dataframe\">\n  <thead>\n    <tr style=\"text-align: right;\">\n      <th></th>\n      <th>0</th>\n      <th>1</th>\n      <th>2</th>\n      <th>3</th>\n    </tr>\n  </thead>\n  <tbody>\n    <tr>\n      <th>3</th>\n      <td>0.274992</td>\n      <td>0.228913</td>\n      <td>1.352917</td>\n      <td>0.886429</td>\n    </tr>\n    <tr>\n      <th>4</th>\n      <td>-2.001637</td>\n      <td>-0.371843</td>\n      <td>1.669025</td>\n      <td>-0.438570</td>\n    </tr>\n    <tr>\n      <th>5</th>\n      <td>-0.539741</td>\n      <td>0.476985</td>\n      <td>3.248944</td>\n      <td>-1.021228</td>\n    </tr>\n  </tbody>\n</table>\n</div>"
     },
     "metadata": {},
     "execution_count": 66
    }
   ],
   "source": [
    "# select multiple DataFrame columns\n",
    "dframe[[0,1]]\n",
    "\n",
    "# select multple DataFrame rows\n",
    "dframe.loc[3:5]\n",
    "\n",
    "# TODO: How are Data Frames structured, in terms of Numpy Arrays?"
   ]
  },
  {
   "cell_type": "code",
   "execution_count": 75,
   "metadata": {},
   "outputs": [
    {
     "output_type": "execute_result",
     "data": {
      "text/plain": [
       "0    False\n",
       "1    False\n",
       "2     True\n",
       "3    False\n",
       "dtype: bool"
      ]
     },
     "metadata": {},
     "execution_count": 75
    }
   ],
   "source": [
    "# for each element in column index, return True if *any* value meets the condition specified\n",
    "(dframe.loc[3:5] > 3).any(axis=0)"
   ]
  },
  {
   "cell_type": "code",
   "execution_count": 77,
   "metadata": {},
   "outputs": [
    {
     "output_type": "execute_result",
     "data": {
      "text/plain": [
       "3    False\n",
       "4    False\n",
       "5     True\n",
       "dtype: bool"
      ]
     },
     "metadata": {},
     "execution_count": 77
    }
   ],
   "source": [
    "# for each element in row index, return True if *any* value meets the condition specified\n",
    "(dframe.loc[3:5] > 3).any(axis=1)"
   ]
  },
  {
   "cell_type": "code",
   "execution_count": 89,
   "metadata": {},
   "outputs": [],
   "source": [
    "# TODO: this line, which I believe is intended to only replace the values > 3 \n",
    "#   replaces all values in selected rows; how to target specific values and leave everything else the same?\n",
    "dframe[(dframe > 3).any(axis=1)] = np.sign(dframe) * 3"
   ]
  },
  {
   "cell_type": "code",
   "execution_count": 87,
   "metadata": {},
   "outputs": [
    {
     "output_type": "execute_result",
     "data": {
      "text/plain": [
       "0   -3.0\n",
       "1    3.0\n",
       "2    3.0\n",
       "3   -3.0\n",
       "Name: 5, dtype: float64"
      ]
     },
     "metadata": {},
     "execution_count": 87
    }
   ],
   "source": [
    "dframe.loc[5]"
   ]
  }
 ]
}