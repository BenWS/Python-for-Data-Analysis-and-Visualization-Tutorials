{
 "cells": [
  {
   "cell_type": "code",
   "execution_count": 9,
   "metadata": {},
   "outputs": [],
   "source": [
    "import numpy as np"
   ]
  },
  {
   "cell_type": "code",
   "execution_count": 13,
   "metadata": {},
   "outputs": [],
   "source": [
    "# create an array of elements from range 50\n",
    "# reshape array into 10x5 array\n",
    "\n",
    "arr = np.arange(50).reshape(10,5)"
   ]
  },
  {
   "cell_type": "code",
   "execution_count": 17,
   "metadata": {},
   "outputs": [
    {
     "data": {
      "text/plain": [
       "array([[ 0,  5, 10, 15, 20, 25, 30, 35, 40, 45],\n",
       "       [ 1,  6, 11, 16, 21, 26, 31, 36, 41, 46],\n",
       "       [ 2,  7, 12, 17, 22, 27, 32, 37, 42, 47],\n",
       "       [ 3,  8, 13, 18, 23, 28, 33, 38, 43, 48],\n",
       "       [ 4,  9, 14, 19, 24, 29, 34, 39, 44, 49]])"
      ]
     },
     "execution_count": 17,
     "metadata": {},
     "output_type": "execute_result"
    }
   ],
   "source": [
    "# transpose the array\n",
    "arr.T"
   ]
  },
  {
   "cell_type": "code",
   "execution_count": 18,
   "metadata": {},
   "outputs": [
    {
     "data": {
      "text/plain": [
       "array([[   30,    80,   130,   180,   230,   280,   330,   380,   430,\n",
       "          480],\n",
       "       [   80,   255,   430,   605,   780,   955,  1130,  1305,  1480,\n",
       "         1655],\n",
       "       [  130,   430,   730,  1030,  1330,  1630,  1930,  2230,  2530,\n",
       "         2830],\n",
       "       [  180,   605,  1030,  1455,  1880,  2305,  2730,  3155,  3580,\n",
       "         4005],\n",
       "       [  230,   780,  1330,  1880,  2430,  2980,  3530,  4080,  4630,\n",
       "         5180],\n",
       "       [  280,   955,  1630,  2305,  2980,  3655,  4330,  5005,  5680,\n",
       "         6355],\n",
       "       [  330,  1130,  1930,  2730,  3530,  4330,  5130,  5930,  6730,\n",
       "         7530],\n",
       "       [  380,  1305,  2230,  3155,  4080,  5005,  5930,  6855,  7780,\n",
       "         8705],\n",
       "       [  430,  1480,  2530,  3580,  4630,  5680,  6730,  7780,  8830,\n",
       "         9880],\n",
       "       [  480,  1655,  2830,  4005,  5180,  6355,  7530,  8705,  9880,\n",
       "        11055]])"
      ]
     },
     "execution_count": 18,
     "metadata": {},
     "output_type": "execute_result"
    }
   ],
   "source": [
    "# take the dot-product of the two arrays\n",
    "# TODO: Review what the dot-product is...\n",
    "\n",
    "np.dot(arr,arr.T)"
   ]
  },
  {
   "cell_type": "code",
   "execution_count": 27,
   "metadata": {},
   "outputs": [
    {
     "data": {
      "text/plain": [
       "array([[[ 0,  1],\n",
       "        [ 2,  3],\n",
       "        [ 4,  5],\n",
       "        [ 6,  7],\n",
       "        [ 8,  9]],\n",
       "\n",
       "       [[10, 11],\n",
       "        [12, 13],\n",
       "        [14, 15],\n",
       "        [16, 17],\n",
       "        [18, 19]],\n",
       "\n",
       "       [[20, 21],\n",
       "        [22, 23],\n",
       "        [24, 25],\n",
       "        [26, 27],\n",
       "        [28, 29]],\n",
       "\n",
       "       [[30, 31],\n",
       "        [32, 33],\n",
       "        [34, 35],\n",
       "        [36, 37],\n",
       "        [38, 39]],\n",
       "\n",
       "       [[40, 41],\n",
       "        [42, 43],\n",
       "        [44, 45],\n",
       "        [46, 47],\n",
       "        [48, 49]]])"
      ]
     },
     "execution_count": 27,
     "metadata": {},
     "output_type": "execute_result"
    }
   ],
   "source": [
    "# make a 3d matrix using arange(50) and reshape\n",
    "arr3d = np.arange(50).reshape(5,5,2)\n",
    "arr3d"
   ]
  },
  {
   "cell_type": "code",
   "execution_count": 28,
   "metadata": {},
   "outputs": [
    {
     "data": {
      "text/plain": [
       "array([[[ 0, 10, 20, 30, 40],\n",
       "        [ 2, 12, 22, 32, 42],\n",
       "        [ 4, 14, 24, 34, 44],\n",
       "        [ 6, 16, 26, 36, 46],\n",
       "        [ 8, 18, 28, 38, 48]],\n",
       "\n",
       "       [[ 1, 11, 21, 31, 41],\n",
       "        [ 3, 13, 23, 33, 43],\n",
       "        [ 5, 15, 25, 35, 45],\n",
       "        [ 7, 17, 27, 37, 47],\n",
       "        [ 9, 19, 29, 39, 49]]])"
      ]
     },
     "execution_count": 28,
     "metadata": {},
     "output_type": "execute_result"
    }
   ],
   "source": [
    "# transpose the 3d matrix\n",
    "arr3d.T"
   ]
  },
  {
   "cell_type": "code",
   "execution_count": 35,
   "metadata": {},
   "outputs": [
    {
     "name": "stdout",
     "output_type": "stream",
     "text": [
      "[[1 2 3]]\n",
      "[[1]\n",
      " [2]\n",
      " [3]]\n"
     ]
    }
   ],
   "source": [
    "# create a 1d array and swap axes\n",
    "arr = np.array([[1,2,3]])\n",
    "\n",
    "print(arr)\n",
    "print(arr.swapaxes(0,1))"
   ]
  }
 ],
 "metadata": {
  "kernelspec": {
   "display_name": "Python 3",
   "language": "python",
   "name": "python3"
  },
  "language_info": {
   "codemirror_mode": {
    "name": "ipython",
    "version": 3
   },
   "file_extension": ".py",
   "mimetype": "text/x-python",
   "name": "python",
   "nbconvert_exporter": "python",
   "pygments_lexer": "ipython3",
   "version": "3.8.5"
  }
 },
 "nbformat": 4,
 "nbformat_minor": 4
}
